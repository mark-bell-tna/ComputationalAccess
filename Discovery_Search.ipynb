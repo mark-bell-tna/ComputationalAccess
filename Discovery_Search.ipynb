{
  "nbformat": 4,
  "nbformat_minor": 0,
  "metadata": {
    "colab": {
      "name": "Discovery Search.ipynb",
      "provenance": [],
      "authorship_tag": "ABX9TyMmoWkJkcJBsNjGALXqnMFy",
      "include_colab_link": true
    },
    "kernelspec": {
      "name": "python3",
      "display_name": "Python 3"
    }
  },
  "cells": [
    {
      "cell_type": "markdown",
      "metadata": {
        "id": "view-in-github",
        "colab_type": "text"
      },
      "source": [
        "<a href=\"https://colab.research.google.com/github/mark-bell-tna/ComputationalAccess/blob/main/Discovery_Search.ipynb\" target=\"_parent\"><img src=\"https://colab.research.google.com/assets/colab-badge.svg\" alt=\"Open In Colab\"/></a>"
      ]
    },
    {
      "cell_type": "code",
      "metadata": {
        "id": "mJKbS_8JgUNY"
      },
      "source": [
        "import sys\r\n",
        "import os"
      ],
      "execution_count": 1,
      "outputs": []
    },
    {
      "cell_type": "code",
      "metadata": {
        "id": "CgEDmuA6glCD"
      },
      "source": [
        "# Where do you want to get data from - Google Drive or Github\r\n",
        "data_source = \"Github\"  # Change to either Github or Drive - if Drive, copy the data into a folder called \"Data\" within your \"My Drive folder\""
      ],
      "execution_count": 2,
      "outputs": []
    },
    {
      "cell_type": "code",
      "metadata": {
        "colab": {
          "base_uri": "https://localhost:8080/"
        },
        "id": "Fq0MyR2bglrM",
        "outputId": "cd4f12c8-9167-477e-adb3-a2ed7a12a983"
      },
      "source": [
        "if data_source == \"Github\":\r\n",
        "    !git clone https://github.com/mark-bell-tna/ComputationalAccess.git\r\n",
        "    sys.path.insert(0, 'ComputationalAccess')\r\n",
        "    data_folder = \"./\"\r\n",
        "    os.listdir(data_folder)\r\n",
        "else:\r\n",
        "    # Connect to gdrive\r\n",
        "    from google.colab import drive\r\n",
        "    drive.mount('/content/gdrive')\r\n",
        "    data_folder = \"/content/gdrive/My Drive/Data/\"\r\n",
        "    os.listdir(data_folder)"
      ],
      "execution_count": 3,
      "outputs": [
        {
          "output_type": "stream",
          "text": [
            "Cloning into 'ComputationalAccess'...\n",
            "remote: Enumerating objects: 45, done.\u001b[K\n",
            "remote: Counting objects: 100% (45/45), done.\u001b[K\n",
            "remote: Compressing objects: 100% (45/45), done.\u001b[K\n",
            "remote: Total 157 (delta 21), reused 0 (delta 0), pack-reused 112\u001b[K\n",
            "Receiving objects: 100% (157/157), 329.78 KiB | 1.35 MiB/s, done.\n",
            "Resolving deltas: 100% (79/79), done.\n"
          ],
          "name": "stdout"
        }
      ]
    },
    {
      "cell_type": "code",
      "metadata": {
        "id": "B4LiPQ22hGQY"
      },
      "source": [
        "from disco_search import DiscoView\r\n",
        "from ukgwa_textindex import UKGWATextIndex\r\n",
        "from operator import itemgetter"
      ],
      "execution_count": 11,
      "outputs": []
    },
    {
      "cell_type": "markdown",
      "metadata": {
        "id": "WbwMoDfciniu"
      },
      "source": [
        "Select a random sample of records from the catalogue hierarchy.\r\n",
        "\r\n",
        "Sampling starts at series id(s) input into sample_leaves procedure, and occurs at each level of the hierarchy on the way down. This is because while many series only have a few sub-series, some can have over 200.\r\n",
        "\r\n",
        "min_sample parameter is the minimum size of a sample, as 0.01 percent of a handful is very small (i.e. 0 after rounding)\r\n",
        "sample_pct parameter is mainly aimed at sampling the bulk of the records at the bottom of the tree but does have some influence at the top of the catalogue where there are c.450 series in total.\r\n",
        "\r\n",
        "All the print statements will be removed eventually :-)\r\n",
        "    "
      ]
    },
    {
      "cell_type": "code",
      "metadata": {
        "colab": {
          "base_uri": "https://localhost:8080/"
        },
        "id": "ylXQwCV_g5J7",
        "outputId": "fcb60d69-a779-4ac7-fcd1-c87bdd709edf"
      },
      "source": [
        "D = DiscoView(page_limit=500)  # page limit parameter is to do with the Discovery API, no advantage in changing it\r\n",
        "\r\n",
        "D.min_sample=10   # Increase to 20 for War Diaries\r\n",
        "D.sample_pct=0.03  # Maybe up this to 0.05 too\r\n",
        "#D._sample_leaves('C188', 'C142','C201','C287')  # Uncomment to sample from Iraq, HCA, Land Revenue, Exchequer Maps (all randomly chosen)\r\n",
        "D._sample_leaves('A13530124')   # Uncomment to sample from whole catalogue\r\n",
        "#D._sample_leaves('C14303')  # Uncomment to sample from WO 95"
      ],
      "execution_count": 13,
      "outputs": [
        {
          "output_type": "stream",
          "text": [
            "Crawl: ['A13530124']\n",
            "Sample: 10 Retrieved: 0\n",
            "Id: A13530124 Count: 452 Total: 0\n",
            "Sample: 1 Retrieved: 0\n",
            "Id: C426 Count: 1 Total: 452\n",
            "Sample: 0 Retrieved: 0\n",
            "Id: C1590 Count: 13 Total: 453\n",
            "Sample: 5 Retrieved: 0\n",
            "Id: C90 Count: 5 Total: 466\n",
            "Sample: 6 Retrieved: 0\n",
            "Id: C1270 Count: 6 Total: 471\n",
            "Sample: 0 Retrieved: 0\n",
            "Id: C6453 Count: 16 Total: 477\n",
            "Sample: 5 Retrieved: 0\n",
            "Id: C6451 Count: 5 Total: 493\n",
            "Sample: 3 Retrieved: 0\n",
            "Id: C22776 Count: 3 Total: 498\n",
            "Sample: 3 Retrieved: 0\n",
            "Id: C22775 Count: 3 Total: 501\n",
            "Sample: 0 Retrieved: 0\n",
            "Id: C22774 Count: 29 Total: 504\n",
            "Sample: 0 Retrieved: 0\n",
            "Id: C6450 Count: 16 Total: 533\n",
            "Sample: 3 Retrieved: 0\n",
            "Id: C6448 Count: 3 Total: 549\n",
            "Sample: 0 Retrieved: 0\n",
            "Id: C71250 Count: 20 Total: 552\n",
            "Sample: 3 Retrieved: 0\n",
            "Id: C71249 Count: 3 Total: 572\n",
            "Sample: 1 Retrieved: 0\n",
            "Id: C71248 Count: 65 Total: 575\n",
            "Sample: 3 Retrieved: 0\n",
            "Id: C6446 Count: 3 Total: 640\n",
            "Sample: 3 Retrieved: 0\n",
            "Id: C22766 Count: 3 Total: 643\n",
            "Sample: 0 Retrieved: 0\n",
            "Id: C22765 Count: 13 Total: 646\n",
            "Sample: 0 Retrieved: 0\n",
            "Id: C22764 Count: 14 Total: 659\n",
            "Sample: 3 Retrieved: 0\n",
            "Id: C6445 Count: 3 Total: 673\n",
            "Sample: 6 Retrieved: 0\n",
            "Id: C22757 Count: 6 Total: 676\n",
            "Sample: 2 Retrieved: 0\n",
            "Id: C22756 Count: 80 Total: 682\n",
            "Sample: 0 Retrieved: 0\n",
            "Id: C22755 Count: 31 Total: 762\n",
            "Sample: 8 Retrieved: 0\n",
            "Id: C1269 Count: 8 Total: 793\n",
            "Sample: 4 Retrieved: 0\n",
            "Id: C6452 Count: 4 Total: 801\n",
            "Sample: 5 Retrieved: 0\n",
            "Id: C22780 Count: 5 Total: 805\n",
            "Sample: 4 Retrieved: 0\n",
            "Id: C22779 Count: 4 Total: 810\n",
            "Sample: 0 Retrieved: 0\n",
            "Id: C92359 Count: 18 Total: 814\n",
            "Sample: 0 Retrieved: 0\n",
            "Id: C92358 Count: 31 Total: 832\n",
            "Sample: 0 Retrieved: 0\n",
            "Id: C22778 Count: 11 Total: 863\n",
            "Sample: 0 Retrieved: 0\n",
            "Id: C22777 Count: 16 Total: 874\n",
            "Sample: 4 Retrieved: 0\n",
            "Id: C6447 Count: 4 Total: 890\n",
            "Sample: 8 Retrieved: 0\n",
            "Id: C22770 Count: 8 Total: 894\n",
            "Sample: 1 Retrieved: 0\n",
            "Id: C22769 Count: 49 Total: 902\n",
            "Sample: 0 Retrieved: 0\n",
            "Id: C22768 Count: 24 Total: 951\n",
            "Sample: 0 Retrieved: 0\n",
            "Id: C22767 Count: 13 Total: 975\n",
            "Sample: 0 Retrieved: 0\n",
            "Id: C6444 Count: 16 Total: 988\n",
            "Sample: 2 Retrieved: 0\n",
            "Id: C6443 Count: 73 Total: 1004\n",
            "Sample: 4 Retrieved: 0\n",
            "Id: C6442 Count: 4 Total: 1077\n",
            "Sample: 0 Retrieved: 0\n",
            "Id: C22752 Count: 28 Total: 1081\n",
            "Sample: 1 Retrieved: 0\n",
            "Id: C22751 Count: 41 Total: 1109\n",
            "Sample: 1 Retrieved: 0\n",
            "Id: C22750 Count: 57 Total: 1150\n",
            "Sample: 0 Retrieved: 0\n",
            "Id: C22749 Count: 19 Total: 1207\n",
            "Sample: 0 Retrieved: 0\n",
            "Id: C6441 Count: 30 Total: 1226\n",
            "Sample: 3 Retrieved: 0\n",
            "Id: C6440 Count: 114 Total: 1256\n",
            "Sample: 2 Retrieved: 0\n",
            "Id: C6439 Count: 81 Total: 1370\n",
            "Sample: 4 Retrieved: 0\n",
            "Id: C50899 Count: 4 Total: 1451\n",
            "Sample: 7 Retrieved: 0\n",
            "Id: C109757 Count: 7 Total: 1455\n",
            "Sample: 6 Retrieved: 0\n",
            "Id: C109756 Count: 6 Total: 1462\n",
            "Sample: 4 Retrieved: 0\n",
            "Id: C109755 Count: 4 Total: 1468\n",
            "Sample: 2 Retrieved: 0\n",
            "Id: C50902 Count: 2 Total: 1472\n",
            "Sample: 0 Retrieved: 0\n",
            "Id: C109765 Count: 16 Total: 1474\n",
            "Sample: 0 Retrieved: 0\n",
            "Id: C109764 Count: 15 Total: 1490\n",
            "Sample: 0 Retrieved: 0\n",
            "Id: C1268 Count: 11 Total: 1505\n",
            "Sample: 0 Retrieved: 0\n",
            "Id: C1267 Count: 13 Total: 1516\n",
            "Sample: 10 Retrieved: 0\n",
            "Id: C1266 Count: 10 Total: 1529\n",
            "Sample: 5 Retrieved: 0\n",
            "Id: C6454 Count: 188 Total: 1539\n",
            "Sample: 0 Retrieved: 0\n",
            "Id: C6415 Count: 17 Total: 1727\n",
            "Sample: 0 Retrieved: 0\n",
            "Id: C6414 Count: 15 Total: 1744\n",
            "Sample: 0 Retrieved: 0\n",
            "Id: C6413 Count: 24 Total: 1759\n",
            "Sample: 0 Retrieved: 0\n",
            "Id: C6412 Count: 13 Total: 1783\n",
            "Sample: 2 Retrieved: 0\n",
            "Id: C6411 Count: 96 Total: 1796\n",
            "Sample: 0 Retrieved: 0\n",
            "Id: C32420 Count: 14 Total: 1892\n",
            "Sample: 6 Retrieved: 0\n",
            "Id: C6410 Count: 6 Total: 1906\n",
            "Sample: 2 Retrieved: 0\n",
            "Id: C22763 Count: 2 Total: 1912\n",
            "Sample: 4 Retrieved: 0\n",
            "Id: C22762 Count: 4 Total: 1914\n",
            "Sample: 2 Retrieved: 0\n",
            "Id: C22761 Count: 2 Total: 1918\n",
            "Sample: 2 Retrieved: 0\n",
            "Id: C22760 Count: 2 Total: 1920\n",
            "Sample: 10 Retrieved: 0\n",
            "Id: C22759 Count: 10 Total: 1922\n",
            "Sample: 6 Retrieved: 0\n",
            "Id: C22758 Count: 6 Total: 1932\n",
            "Sample: 1 Retrieved: 0\n",
            "Id: C6409 Count: 35 Total: 1938\n",
            "Sample: 3 Retrieved: 0\n",
            "Id: C6408 Count: 109 Total: 1973\n",
            "Sample: 7 Retrieved: 0\n",
            "Id: C6407 Count: 7 Total: 2082\n",
            "Sample: 3 Retrieved: 0\n",
            "Id: C74431 Count: 3 Total: 2089\n",
            "Sample: 1 Retrieved: 0\n",
            "Id: C74430 Count: 1 Total: 2092\n",
            "Sample: 3 Retrieved: 0\n",
            "Id: C4192613 Count: 3 Total: 2093\n",
            "Sample: 1 Retrieved: 0\n",
            "Id: C74429 Count: 1 Total: 2096\n",
            "Sample: 0 Retrieved: 0\n",
            "Id: C4192612 Count: 14 Total: 2097\n",
            "Sample: 2 Retrieved: 0\n",
            "Id: C74428 Count: 2 Total: 2111\n",
            "Sample: 1 Retrieved: 0\n",
            "Id: C4192611 Count: 35 Total: 2113\n",
            "Sample: 2 Retrieved: 0\n",
            "Id: C4192610 Count: 68 Total: 2148\n",
            "Sample: 2 Retrieved: 0\n",
            "Id: C74427 Count: 2 Total: 2216\n",
            "Sample: 7 Retrieved: 0\n",
            "Id: C4192609 Count: 7 Total: 2218\n",
            "Sample: 0 Retrieved: 0\n",
            "Id: C4192608 Count: 12 Total: 2225\n",
            "Sample: 2 Retrieved: 0\n",
            "Id: C74426 Count: 2 Total: 2237\n",
            "Sample: 0 Retrieved: 0\n",
            "Id: C4192607 Count: 32 Total: 2239\n",
            "Sample: 1 Retrieved: 0\n",
            "Id: C4192606 Count: 34 Total: 2271\n",
            "Sample: 3 Retrieved: 0\n",
            "Id: C74425 Count: 3 Total: 2305\n",
            "Sample: 5 Retrieved: 0\n",
            "Id: C4192605 Count: 5 Total: 2308\n",
            "Sample: 5 Retrieved: 0\n",
            "Id: C4192604 Count: 5 Total: 2313\n",
            "Sample: 0 Retrieved: 0\n",
            "Id: C4192603 Count: 32 Total: 2318\n",
            "Sample: 1 Retrieved: 0\n",
            "Id: C322 Count: 1 Total: 2350\n",
            "Sample: 1 Retrieved: 0\n",
            "Id: C406 Count: 1 Total: 2351\n",
            "Sample: 0 Retrieved: 0\n",
            "Id: C1500 Count: 17 Total: 2352\n",
            "Sample: 0 Retrieved: 0\n",
            "Id: C161 Count: 13 Total: 2369\n",
            "Sample: 0 Retrieved: 0\n",
            "Id: C336 Count: 24 Total: 2382\n",
            "Sample: 1 Retrieved: 0\n",
            "Id: C10 Count: 64 Total: 2406\n",
            "Sample: 3 Retrieved: 0\n",
            "Id: C109 Count: 3 Total: 2470\n",
            "Sample: 1 Retrieved: 0\n",
            "Id: C7132 Count: 1 Total: 2473\n",
            "Sample: 0 Retrieved: 0\n",
            "Id: C80834 Count: 18 Total: 2474\n",
            "Sample: 1 Retrieved: 0\n",
            "Id: C7131 Count: 1 Total: 2492\n",
            "Sample: 0 Retrieved: 0\n",
            "Id: C80833 Count: 24 Total: 2493\n",
            "Sample: 1 Retrieved: 0\n",
            "Id: C7130 Count: 57 Total: 2517\n",
            "Sample: 1 Retrieved: 0\n",
            "Id: C291 Count: 1 Total: 2574\n",
            "Sample: 6 Retrieved: 0\n",
            "Id: C15022 Count: 6 Total: 2575\n",
            "Sample: 4 Retrieved: 0\n",
            "Id: C3982319 Count: 4 Total: 2581\n",
            "Sample: 0 Retrieved: 0\n",
            "Id: C78 Count: 13 Total: 2585\n",
            "Total = 2598\n"
          ],
          "name": "stdout"
        }
      ]
    },
    {
      "cell_type": "markdown",
      "metadata": {
        "id": "HTCZBnhIji6r"
      },
      "source": [
        "Index the text from the catalogue descriptions for later use (e.g. keyword/phrase search)"
      ]
    },
    {
      "cell_type": "code",
      "metadata": {
        "id": "gUTUSk1bhRCj"
      },
      "source": [
        "T = UKGWATextIndex(stop_words = [\"\", \"and\", \"of\", \"the\", \"in\", \"a\", \"by\", \"which\", \"their\",\"as\",\"an\",\r\n",
        "                                 \"for\",\"to\",\"if\",\"be\",\"this\",\"on\",\"are\",\"at\",\"were\",\"it\",\"is\",\"that\",\r\n",
        "                                 \"from\",\"been\",\"has\",\"have\",\"or\",\"there\",\"was\",\"they\",\"with\",\"these\"])\r\n",
        "\r\n",
        "for idx in D:\r\n",
        "    desc = D.get_field(idx, \"Description\")\r\n",
        "    if desc is None:\r\n",
        "        continue\r\n",
        "    T.add_tokens(D.get_field(idx, \"Description\").split(\" \"), idx)\r\n",
        " "
      ],
      "execution_count": 14,
      "outputs": []
    },
    {
      "cell_type": "markdown",
      "metadata": {
        "id": "IEt3axmKjtOT"
      },
      "source": [
        "Get top N phrases from the indexed text"
      ]
    },
    {
      "cell_type": "code",
      "metadata": {
        "colab": {
          "base_uri": "https://localhost:8080/"
        },
        "id": "pf12p-oZhp6-",
        "outputId": "effe82f1-9fa4-4982-daac-83ee88d73346"
      },
      "source": [
        "N = 20  # Return top 20 results (by count)\r\n",
        "\r\n",
        "P = T.get_phrases(min_count = 5, min_length = 2)  # Phrases occurring at least 5 times with at least 2 words in them\r\n",
        "P.sort(key=itemgetter(1), reverse=True)\r\n",
        "for p in P[:N]:\r\n",
        "    print(p)"
      ],
      "execution_count": 17,
      "outputs": [
        {
          "output_type": "stream",
          "text": [
            "[['general', 'nursing', 'council'], 20]\n",
            "[['general', 'nursing', 'council', 'england', 'wales'], 13]\n",
            "[['correspondence', 'papers'], 12]\n",
            "[['details', 'piece', 'shown', 'items', 'level'], 11]\n",
            "[['registered', 'files'], 10]\n",
            "[['nurses', 'rules', 'revised'], 9]\n",
            "[['works', 'art'], 9]\n",
            "[['training', 'schools'], 7]\n",
            "[['national', 'health', 'service'], 6]\n",
            "[['please', 'see'], 6]\n",
            "[['websites', 'please'], 6]\n",
            "[['its', 'committees'], 6]\n",
            "[['records', 'relating'], 6]\n",
            "[['papers', 'relating'], 6]\n",
            "[['scale', '1', 'inch'], 5]\n",
            "[['nurse', 'training', 'committees'], 5]\n",
            "[['division', 'registered', 'files'], 5]\n",
            "[['compass', 'indicator'], 5]\n",
            "[['reference', 'table'], 5]\n",
            "[['female', 'instructions'], 5]\n"
          ],
          "name": "stdout"
        }
      ]
    }
  ]
}