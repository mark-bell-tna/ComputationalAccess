{
  "nbformat": 4,
  "nbformat_minor": 0,
  "metadata": {
    "colab": {
      "name": "UKGWA AtoZ.ipynb",
      "provenance": [],
      "authorship_tag": "ABX9TyNMn1IgPGpTchyl1Ng2Fsw/",
      "include_colab_link": true
    },
    "kernelspec": {
      "name": "python3",
      "display_name": "Python 3"
    }
  },
  "cells": [
    {
      "cell_type": "markdown",
      "metadata": {
        "id": "view-in-github",
        "colab_type": "text"
      },
      "source": [
        "<a href=\"https://colab.research.google.com/github/mark-bell-tna/ComputationalAccess/blob/main/UKGWA_AtoZ.ipynb\" target=\"_parent\"><img src=\"https://colab.research.google.com/assets/colab-badge.svg\" alt=\"Open In Colab\"/></a>"
      ]
    },
    {
      "cell_type": "code",
      "metadata": {
        "id": "SMfHwmSC5tsS"
      },
      "source": [
        "import requests;      #used for connecting to the API\r\n",
        "import sys\r\n",
        "from time import sleep\r\n",
        "from math import log\r\n",
        "import os\r\n",
        "from urllib.request import urlopen\r\n",
        "import re\r\n",
        "from operator import itemgetter"
      ],
      "execution_count": 1,
      "outputs": []
    },
    {
      "cell_type": "code",
      "metadata": {
        "id": "K4lHZ0lhYePs"
      },
      "source": [
        "RunningInCOLAB = 'google.colab' in str(get_ipython())\r\n",
        "print(\"Running in colab?:\",RunningInCOLAB)\r\n",
        "print(\"iPython string:\",get_ipython())"
      ],
      "execution_count": null,
      "outputs": []
    },
    {
      "cell_type": "code",
      "metadata": {
        "id": "NvoT-bhVXXTy",
        "outputId": "260339f4-7a2e-4078-b7b9-846ab5b062d5",
        "colab": {
          "base_uri": "https://localhost:8080/"
        }
      },
      "source": [
        "!pip install beautifulsoup4"
      ],
      "execution_count": 4,
      "outputs": [
        {
          "output_type": "stream",
          "text": [
            "Requirement already satisfied: beautifulsoup4 in /usr/local/lib/python3.6/dist-packages (4.6.3)\n"
          ],
          "name": "stdout"
        }
      ]
    },
    {
      "cell_type": "code",
      "metadata": {
        "colab": {
          "base_uri": "https://localhost:8080/"
        },
        "id": "ZS7tnkb55zg0",
        "outputId": "2cd449ee-9c8a-48fb-8426-1424206bdb13"
      },
      "source": [
        "!git clone https://github.com/mark-bell-tna/ComputationalAccess.git\r\n",
        "sys.path.insert(0,'ComputationalAccess')"
      ],
      "execution_count": 2,
      "outputs": [
        {
          "output_type": "stream",
          "text": [
            "Cloning into 'ComputationalAccess'...\n",
            "remote: Enumerating objects: 43, done.\u001b[K\n",
            "remote: Counting objects: 100% (43/43), done.\u001b[K\n",
            "remote: Compressing objects: 100% (42/42), done.\u001b[K\n",
            "remote: Total 43 (delta 18), reused 0 (delta 0), pack-reused 0\u001b[K\n",
            "Unpacking objects: 100% (43/43), done.\n"
          ],
          "name": "stdout"
        }
      ]
    },
    {
      "cell_type": "code",
      "metadata": {
        "id": "8mJg0fKK51sQ"
      },
      "source": [
        "from ukgwa_index import UKGWAIndex\r\n",
        "from text_utils import SuffixTree, text_to_parts"
      ],
      "execution_count": 3,
      "outputs": []
    },
    {
      "cell_type": "code",
      "metadata": {
        "colab": {
          "base_uri": "https://localhost:8080/"
        },
        "id": "AKgHts7HJPkN",
        "outputId": "c5541790-ce0f-41f8-bbad-1725034547cb"
      },
      "source": [
        "# Get entries from AtoZ index\r\n",
        "idx = UKGWAIndex()\r\n",
        "print(\"Getting index...\")\r\n",
        "idx.indexfromweb()\r\n",
        "#idx.indexfromfile(\"atoz_index.txt\")\r\n",
        "#idx.indextofile(\"atoz_index.txt\")"
      ],
      "execution_count": null,
      "outputs": [
        {
          "output_type": "stream",
          "text": [
            "Getting index...\n"
          ],
          "name": "stdout"
        }
      ]
    },
    {
      "cell_type": "code",
      "metadata": {
        "colab": {
          "base_uri": "https://localhost:8080/"
        },
        "id": "wLpB8Vig6A_x",
        "outputId": "86c2ced6-0fc7-464f-fce1-15f5ba01a5d2"
      },
      "source": [
        "# Index the text of the index to make it searchable and to get common ngrams\r\n",
        "\r\n",
        "st = SuffixTree(0, set(['on','for','and','of','&','the']))\r\n",
        "\r\n",
        "print(\"Loading suffixes...\")\r\n",
        "for w in idx:\r\n",
        "    w_p = text_to_parts(w[1])\r\n",
        "    i = 0\r\n",
        "    for p in w_p:\r\n",
        "        if p[3] == \"web\":\r\n",
        "            continue\r\n",
        "        i += 1\r\n",
        "        st.add_tokens(p[0].split(\" \"), w[0] + \".\" + str(i))\r\n",
        "\r\n",
        "\r\n"
      ],
      "execution_count": null,
      "outputs": [
        {
          "output_type": "stream",
          "text": [
            "Loading suffixes...\n"
          ],
          "name": "stdout"
        }
      ]
    },
    {
      "cell_type": "code",
      "metadata": {
        "colab": {
          "base_uri": "https://localhost:8080/"
        },
        "id": "NoHUnzPSJeSR",
        "outputId": "0b2c89eb-4f41-4778-b75f-a74e8d0ac865"
      },
      "source": [
        "# Print examples of top N common ngrams\r\n",
        "\r\n",
        "print(\"Getting phrases...\")\r\n",
        "s = st.get_phrases(30,2,10)\r\n",
        "s.sort(key=itemgetter(1), reverse=True)\r\n",
        "\r\n",
        "# TODO: Need to incorporate nearest match code to get references\r\n",
        "# Do inside suffix tree class\r\n",
        "N = 5\r\n",
        "for row in s[0:N]:\r\n",
        "    print(\" \".join(row[0]),row[1])\r\n",
        "    print(\"\\t\",idx.indexlookup(st.get_ngram_reference(row[2])[:-2]))\r\n",
        "    #for r in row[4]:\r\n",
        "    #    print(\"\\t\",idx.indexlookup(st.get_ngram_reference(r)[:-2]))"
      ],
      "execution_count": null,
      "outputs": [
        {
          "output_type": "stream",
          "text": [
            "Getting phrases...\n",
            "Twitter Archive 340\n",
            "\t ['UKGWA.13', 'ACAS (Advisory, Conciliation and Arbitration Service) – Twitter Archive', 'twitter', 'acasorguk', 'N']\n",
            "YouTube Archive 194\n",
            "\t ['UKGWA.14', 'ACAS (Advisory, Conciliation and Arbitration Service) – YouTube Archive', 'video', 'acasorguk', 'N']\n",
            "National Health Service 170\n",
            "\t ['UKGWA.1392', 'Department of Health (DH) – Innovation in the National Health Service (NHS)', '*', 'http://innovation.dh.gov.uk/', 'N']\n",
            "GOV.UK Blog 143\n",
            "\t ['UKGWA.5', 'Academies and free schools – GOV.UK Blog', '*', 'https://academyschools.blog.gov.uk/', 'N']\n",
            "Advisory Committee 58\n",
            "\t ['UKGWA.32', 'Administration of Radioactive Substances Advisory Committee', '*', 'http://www.arsac.org.uk/', 'N']\n"
          ],
          "name": "stdout"
        }
      ]
    }
  ]
}