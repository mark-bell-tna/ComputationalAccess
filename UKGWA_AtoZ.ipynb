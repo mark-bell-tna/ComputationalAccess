{
  "nbformat": 4,
  "nbformat_minor": 0,
  "metadata": {
    "colab": {
      "name": "UKGWA AtoZ.ipynb",
      "provenance": [],
      "authorship_tag": "ABX9TyOSqZGO4+DXiAR+sBZKcaMM",
      "include_colab_link": true
    },
    "kernelspec": {
      "name": "python3",
      "display_name": "Python 3"
    }
  },
  "cells": [
    {
      "cell_type": "markdown",
      "metadata": {
        "id": "view-in-github",
        "colab_type": "text"
      },
      "source": [
        "<a href=\"https://colab.research.google.com/github/mark-bell-tna/ComputationalAccess/blob/main/UKGWA_AtoZ.ipynb\" target=\"_parent\"><img src=\"https://colab.research.google.com/assets/colab-badge.svg\" alt=\"Open In Colab\"/></a>"
      ]
    },
    {
      "cell_type": "code",
      "metadata": {
        "id": "SMfHwmSC5tsS"
      },
      "source": [
        "import requests;      #used for connecting to the API\r\n",
        "import sys\r\n",
        "from time import sleep\r\n",
        "from math import log\r\n",
        "import os\r\n",
        "from urllib.request import urlopen\r\n",
        "import re\r\n",
        "from operator import itemgetter"
      ],
      "execution_count": 1,
      "outputs": []
    },
    {
      "cell_type": "code",
      "metadata": {
        "id": "OcI59YgPNhdW"
      },
      "source": [
        "import shutil\r\n",
        "shutil.rmtree('ComputationalAccess')"
      ],
      "execution_count": 6,
      "outputs": []
    },
    {
      "cell_type": "code",
      "metadata": {
        "id": "rhmfLGPrIGXw",
        "outputId": "06ab91ed-08da-496a-d099-a8fe86a790c5",
        "colab": {
          "base_uri": "https://localhost:8080/"
        }
      },
      "source": [
        "!git clone https://github.com/mark-bell-tna/ComputationalAccess.git"
      ],
      "execution_count": 7,
      "outputs": [
        {
          "output_type": "stream",
          "text": [
            "Cloning into 'ComputationalAccess'...\n",
            "remote: Enumerating objects: 65, done.\u001b[K\n",
            "remote: Counting objects: 100% (65/65), done.\u001b[K\n",
            "remote: Compressing objects: 100% (63/63), done.\u001b[K\n",
            "remote: Total 65 (delta 29), reused 0 (delta 0), pack-reused 0\u001b[K\n",
            "Unpacking objects: 100% (65/65), done.\n"
          ],
          "name": "stdout"
        }
      ]
    },
    {
      "cell_type": "code",
      "metadata": {
        "id": "qNQAXt0UICKG",
        "outputId": "613b8823-829a-437b-9f62-14803648a1f5",
        "colab": {
          "base_uri": "https://localhost:8080/"
        }
      },
      "source": [
        "sys.path.insert(0, 'ComputationalAccess')\r\n",
        "os.listdir(\"ComputationalAccess/Data\")"
      ],
      "execution_count": 8,
      "outputs": [
        {
          "output_type": "execute_result",
          "data": {
            "text/plain": [
              "['discovery_ukgwa_links.txt']"
            ]
          },
          "metadata": {
            "tags": []
          },
          "execution_count": 8
        }
      ]
    },
    {
      "cell_type": "code",
      "metadata": {
        "id": "8mJg0fKK51sQ"
      },
      "source": [
        "from ukgwa_index import UKGWAIndex\r\n",
        "from text_utils import SuffixTree, text_to_parts\r\n",
        "from web_structure import UKGWAStructure"
      ],
      "execution_count": 9,
      "outputs": []
    },
    {
      "cell_type": "code",
      "metadata": {
        "id": "K4lHZ0lhYePs",
        "colab": {
          "base_uri": "https://localhost:8080/"
        },
        "outputId": "48577cac-4e80-484b-a379-d9c8e46a95a0"
      },
      "source": [
        "RunningInCOLAB = 'google.colab' in str(get_ipython())\r\n",
        "print(\"Running in colab?:\",RunningInCOLAB)\r\n",
        "print(\"iPython string:\",get_ipython())"
      ],
      "execution_count": 10,
      "outputs": [
        {
          "output_type": "stream",
          "text": [
            "Running in colab?: True\n",
            "iPython string: <google.colab._shell.Shell object at 0x7f526cbe87f0>\n"
          ],
          "name": "stdout"
        }
      ]
    },
    {
      "cell_type": "code",
      "metadata": {
        "colab": {
          "base_uri": "https://localhost:8080/"
        },
        "id": "U1AsKaeuiLFd",
        "outputId": "fed2d68c-1efc-4067-8f64-cb6a075fda1d"
      },
      "source": [
        "if RunningInCOLAB:\r\n",
        "    # Connect to gdrive\r\n",
        "    from google.colab import drive\r\n",
        "    drive.mount('/content/gdrive')\r\n",
        "    root_folder = \"/content/gdrive/My Drive/\"\r\n",
        "else:\r\n",
        "    root_folder = \"./\"\r\n",
        "\r\n",
        "data_folder = root_folder + \"Data/\""
      ],
      "execution_count": 11,
      "outputs": [
        {
          "output_type": "stream",
          "text": [
            "Drive already mounted at /content/gdrive; to attempt to forcibly remount, call drive.mount(\"/content/gdrive\", force_remount=True).\n"
          ],
          "name": "stdout"
        }
      ]
    },
    {
      "cell_type": "code",
      "metadata": {
        "colab": {
          "base_uri": "https://localhost:8080/"
        },
        "id": "AKgHts7HJPkN",
        "outputId": "6661a6d6-f128-4a4a-cf7d-382055eff6d1"
      },
      "source": [
        "# Get entries from AtoZ index\r\n",
        "\r\n",
        "refresh = False\r\n",
        "\r\n",
        "print(\"Getting index...\")\r\n",
        "idx = UKGWAIndex()\r\n",
        "if refresh:\r\n",
        "    idx.indexfromweb()  # Read the A to Z index from the UKGWA website\r\n",
        "else:\r\n",
        "    idx.indexfromfile(data_folder + \"atoz_index.txt\")  # Read from a saved file\r\n",
        "\r\n",
        "print(\"Loaded index...\")"
      ],
      "execution_count": 12,
      "outputs": [
        {
          "output_type": "stream",
          "text": [
            "Getting index...\n",
            "Loaded index...\n"
          ],
          "name": "stdout"
        }
      ]
    },
    {
      "cell_type": "code",
      "metadata": {
        "id": "lu7Oi7OoKBBe"
      },
      "source": [
        "# Updated the entries with Discovery catalogue references\r\n",
        "\r\n",
        "idx.discoveryfromfile(\"ComputationalAccess/Data/discovery_ukgwa_links.txt\")"
      ],
      "execution_count": 13,
      "outputs": []
    },
    {
      "cell_type": "code",
      "metadata": {
        "id": "DIqZwJBnKa7Q",
        "outputId": "3b08d296-dc07-4b71-bc2a-c0e3a6567d1f",
        "colab": {
          "base_uri": "https://localhost:8080/"
        }
      },
      "source": [
        "# Test the last command worked - should see a catalogue reference in last position of list\r\n",
        "# If it says 'N' then try a few other numbers.\r\n",
        "idx.index['UKGWA.100']"
      ],
      "execution_count": 14,
      "outputs": [
        {
          "output_type": "execute_result",
          "data": {
            "text/plain": [
              "['UKGWA.100',\n",
              " 'Advisory Panel on Country Information (APCI) (http://apci.homeoffice.gov.uk)',\n",
              " '*',\n",
              " 'http://apci.homeoffice.gov.uk/',\n",
              " 'HO 437']"
            ]
          },
          "metadata": {
            "tags": []
          },
          "execution_count": 14
        }
      ]
    },
    {
      "cell_type": "code",
      "metadata": {
        "id": "kx8U4145j6cA"
      },
      "source": [
        "# Only run this if you want to save the results of \"indexfromweb\" for next time\r\n",
        "idx.indextofile(data_folder + \"atoz_index.txt\")"
      ],
      "execution_count": 15,
      "outputs": []
    },
    {
      "cell_type": "code",
      "metadata": {
        "colab": {
          "base_uri": "https://localhost:8080/"
        },
        "id": "wLpB8Vig6A_x",
        "outputId": "f1959b4a-19d8-4580-b776-f41a9d28aa5f"
      },
      "source": [
        "# Index the text of the index to make it searchable and to get common ngrams\r\n",
        "\r\n",
        "st = SuffixTree(0, set(['on','for','and','of','&','the']))\r\n",
        "\r\n",
        "print(\"Loading suffixes...\")\r\n",
        "for w in idx:\r\n",
        "    w_p = text_to_parts(w[1])\r\n",
        "    i = 0\r\n",
        "    for p in w_p:\r\n",
        "        if p[3] == \"web\":\r\n",
        "            continue\r\n",
        "        i += 1\r\n",
        "        st.add_tokens(p[0].split(\" \"), w[0] + \".\" + str(i))\r\n",
        "\r\n",
        "print(\"Loaded\")\r\n"
      ],
      "execution_count": 16,
      "outputs": [
        {
          "output_type": "stream",
          "text": [
            "Loading suffixes...\n",
            "Loaded\n"
          ],
          "name": "stdout"
        }
      ]
    },
    {
      "cell_type": "code",
      "metadata": {
        "colab": {
          "base_uri": "https://localhost:8080/"
        },
        "id": "NoHUnzPSJeSR",
        "outputId": "633ed1c3-1aa2-4769-efb1-77b16ce0b0b3"
      },
      "source": [
        "# Print examples of top N common ngrams\r\n",
        "\r\n",
        "print(\"Getting phrases...\")\r\n",
        "s = st.get_phrases(30,2,10)\r\n",
        "s.sort(key=itemgetter(1), reverse=True)\r\n",
        "\r\n",
        "# TODO: Need to incorporate nearest match code to get references\r\n",
        "# Do inside suffix tree class\r\n",
        "N = 10\r\n",
        "topNindex = {}\r\n",
        "for row in s[0:N]:\r\n",
        "    this_list = [idx.indexlookup(st.get_ngram_reference(row[2])[:-2])]\r\n",
        "    ngram_text = \" \".join(row[0])\r\n",
        "    print(ngram_text, row[1])\r\n",
        "    print(\"\\t\", this_list[0])\r\n",
        "    for r in row[4]:\r\n",
        "        this_list.append(idx.indexlookup(st.get_ngram_reference(r)[:-2]))\r\n",
        "    topNindex[ngram_text] = this_list\r\n",
        "\r\n",
        "topNindex[\"National Health Service\"][0]"
      ],
      "execution_count": 22,
      "outputs": [
        {
          "output_type": "stream",
          "text": [
            "Getting phrases...\n",
            "Twitter Archive 340\n",
            "\t ['UKGWA.13', 'ACAS (Advisory, Conciliation and Arbitration Service) – Twitter Archive', 'twitter', 'acasorguk', 'N']\n",
            "YouTube Archive 194\n",
            "\t ['UKGWA.14', 'ACAS (Advisory, Conciliation and Arbitration Service) – YouTube Archive', 'video', 'acasorguk', 'N']\n",
            "National Health Service 170\n",
            "\t ['UKGWA.1392', 'Department of Health (DH) – Innovation in the National Health Service (NHS)', '*', 'http://innovation.dh.gov.uk/', 'JA 346']\n",
            "GOV.UK Blog 143\n",
            "\t ['UKGWA.5', 'Academies and free schools – GOV.UK Blog', '*', 'https://academyschools.blog.gov.uk/', 'N']\n",
            "Advisory Committee 58\n",
            "\t ['UKGWA.32', 'Administration of Radioactive Substances Advisory Committee', '*', 'http://www.arsac.org.uk/', 'JA 55']\n",
            "National Institute Health 48\n",
            "\t ['UKGWA.3548', 'National Health Service (NHS) – National Institute for Health Research – Involve', '*', 'http://www.invo.org.uk/', 'JA 32']\n",
            "Department Health 48\n",
            "\t ['UKGWA.153', 'Alistair Burns (Department of Health) Blog', '*', 'http://alistairburns.dh.gov.uk/', 'JA 282']\n",
            "HM Revenue Customs 46\n",
            "\t ['UKGWA.2495', 'HM Revenue & Customs (HMRC)', '*', 'http://www.hmrc.gov.uk/', 'CUST 157']\n",
            "Civil Service 42\n",
            "\t ['UKGWA.210', 'Are You Pension Savvy? – Civil Service Pension Scheme', '*', 'http://www.clear-events.co.uk/civilservicepensionscheme_quiz/', 'N']\n",
            "Department Environment, Food Rural Affairs 40\n",
            "\t ['UKGWA.1244', 'Department for Environment, Food and Rural Affairs (Defra) (http://ww2.defra.gov.uk/)', '*', 'http://ww2.defra.gov.uk/', 'N']\n"
          ],
          "name": "stdout"
        },
        {
          "output_type": "execute_result",
          "data": {
            "text/plain": [
              "['UKGWA.1392',\n",
              " 'Department of Health (DH) – Innovation in the National Health Service (NHS)',\n",
              " '*',\n",
              " 'http://innovation.dh.gov.uk/',\n",
              " 'JA 346']"
            ]
          },
          "metadata": {
            "tags": []
          },
          "execution_count": 22
        }
      ]
    },
    {
      "cell_type": "code",
      "metadata": {
        "id": "WszdZR08Mxb6"
      },
      "source": [
        "WS = UKGWAStructure()\r\n",
        "\r\n",
        "for entry in idx:\r\n",
        "    identifier = entry[0]\r\n",
        "    url = entry[3]\r\n",
        "    WS.loadurl(url, identifier)"
      ],
      "execution_count": 27,
      "outputs": []
    },
    {
      "cell_type": "code",
      "metadata": {
        "id": "hpnvZakpSSWK",
        "outputId": "0d76d214-1cc6-49a5-ba9d-43ee2d980857",
        "colab": {
          "base_uri": "https://localhost:8080/"
        }
      },
      "source": [
        "ngram_of_interest = \"Advisory Committee\"\r\n",
        "domain_summary = {}\r\n",
        "ignore = [x[0] for x in topNindex['Twitter Archive']]\r\n",
        "ignore += [x[0] for x in topNindex['YouTube Archive']]\r\n",
        "for entry in topNindex[ngram_of_interest]:\r\n",
        "    identifier = entry[0]\r\n",
        "    if identifier in ignore:\r\n",
        "        continue\r\n",
        "    url_parts = WS.index[identifier]\r\n",
        "    dt = WS.domaintotree(url_parts.netloc, strip_www=True)\r\n",
        "    dom_name = \".\".join(reversed(dt[:3]))\r\n",
        "    if dom_name in domain_summary:\r\n",
        "        domain_summary[dom_name] += 1\r\n",
        "    else:\r\n",
        "        domain_summary[dom_name] = 1\r\n",
        "\r\n",
        "sorted_domains = sorted([(k,v) for k,v in domain_summary.items()], key=itemgetter(1), reverse=True)\r\n",
        "print(sorted_domains)"
      ],
      "execution_count": 37,
      "outputs": [
        {
          "output_type": "stream",
          "text": [
            "[('defra.gov.uk', 8), ('dh.gov.uk', 6), ('doh.gov.uk', 5), ('food.gov.uk', 5), ('ofcom.org.uk', 3), ('independent.gov.uk', 2), ('mhra.gov.uk', 2), ('forestry.gov.uk', 2), ('quangos.ercouncil.org', 2), ('atipac.org.uk', 2), ('arsac.org.uk', 1), ('hse.gov.uk', 1), ('honours.gov.uk', 1), ('dptac.gov.uk', 1), ('english-heritage.org.uk', 1), ('ssac.org.uk', 1), ('blog.gov.uk', 1), ('$.acme-uk.org', 1), ('homeoffice.gov.uk', 1), ('wales.gov.uk', 1), ('acnfp.gov.uk', 1), ('communities.gov.uk', 1), ('sacn.gov.uk', 1), ('pesticides.gov.uk', 1), ('lawcom.gov.uk', 1), ('deac.org.uk', 1), ('pasa.nhs.uk', 1), ('dwp.gov.uk', 1), ('seac.gov.uk', 1), ('acoba.gov.uk', 1), ('berr.gov.uk', 1), ('plr.uk.com', 1)]\n"
          ],
          "name": "stdout"
        }
      ]
    },
    {
      "cell_type": "code",
      "metadata": {
        "id": "HVU0y3xJUfDv",
        "outputId": "07fc7bd9-0c5e-4a7b-be17-bac2faf68886",
        "colab": {
          "base_uri": "https://localhost:8080/"
        }
      },
      "source": [
        "series_summary = {}\r\n",
        "ignore = [x[0] for x in topNindex['Twitter Archive']]\r\n",
        "ignore += [x[0] for x in topNindex['YouTube Archive']]\r\n",
        "for entry in topNindex[ngram_of_interest]:\r\n",
        "    identifier = entry[0]\r\n",
        "    if identifier in ignore:\r\n",
        "        continue\r\n",
        "    series = entry[4].split(\" \")[0]\r\n",
        "    if series in series_summary:\r\n",
        "        series_summary[series] += 1\r\n",
        "    else:\r\n",
        "        series_summary[series] = 1\r\n",
        "\r\n",
        "sorted_series = sorted([(k,v) for k,v in series_summary.items()], key=itemgetter(1), reverse=True)\r\n",
        "print(sorted_series)"
      ],
      "execution_count": 38,
      "outputs": [
        {
          "output_type": "stream",
          "text": [
            "[('N', 14), ('JA', 10), ('KM', 5), ('MAF', 5), ('JB', 3), ('OCM', 3), ('AT', 2), ('CAB', 2), ('F', 2), ('DEFE', 2), ('DFT', 2), ('FM', 1), ('RH', 1), ('HO', 1), ('WA', 1), ('CLG', 1), ('SE', 1), ('BC', 1), ('SR', 1), ('PF', 1)]\n"
          ],
          "name": "stdout"
        }
      ]
    }
  ]
}