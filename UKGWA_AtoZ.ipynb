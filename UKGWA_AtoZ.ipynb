{
  "nbformat": 4,
  "nbformat_minor": 0,
  "metadata": {
    "colab": {
      "name": "UKGWA AtoZ.ipynb",
      "provenance": [],
      "authorship_tag": "ABX9TyO4X0uWwLFotgqMWAVOG37D",
      "include_colab_link": true
    },
    "kernelspec": {
      "name": "python3",
      "display_name": "Python 3"
    }
  },
  "cells": [
    {
      "cell_type": "markdown",
      "metadata": {
        "id": "view-in-github",
        "colab_type": "text"
      },
      "source": [
        "<a href=\"https://colab.research.google.com/github/mark-bell-tna/ComputationalAccess/blob/main/UKGWA_AtoZ.ipynb\" target=\"_parent\"><img src=\"https://colab.research.google.com/assets/colab-badge.svg\" alt=\"Open In Colab\"/></a>"
      ]
    },
    {
      "cell_type": "code",
      "metadata": {
        "id": "SMfHwmSC5tsS"
      },
      "source": [
        "import requests;      #used for connecting to the API\r\n",
        "import sys\r\n",
        "from time import sleep\r\n",
        "from math import log\r\n",
        "import os\r\n",
        "from urllib.request import urlopen\r\n",
        "import re\r\n",
        "from operator import itemgetter"
      ],
      "execution_count": 5,
      "outputs": []
    },
    {
      "cell_type": "code",
      "metadata": {
        "id": "8mJg0fKK51sQ"
      },
      "source": [
        "from ukgwa_index import UKGWAIndex\r\n",
        "from text_utils import SuffixTree, text_to_parts"
      ],
      "execution_count": 8,
      "outputs": []
    },
    {
      "cell_type": "code",
      "metadata": {
        "id": "K4lHZ0lhYePs",
        "outputId": "3bfee03a-4052-474f-b085-ea50f2d37cf6",
        "colab": {
          "base_uri": "https://localhost:8080/"
        }
      },
      "source": [
        "RunningInCOLAB = 'google.colab' in str(get_ipython())\r\n",
        "print(\"Running in colab?:\",RunningInCOLAB)\r\n",
        "print(\"iPython string:\",get_ipython())"
      ],
      "execution_count": 10,
      "outputs": [
        {
          "output_type": "stream",
          "text": [
            "Running in colab?: True\n",
            "iPython string: <google.colab._shell.Shell object at 0x7f39d69357b8>\n"
          ],
          "name": "stdout"
        }
      ]
    },
    {
      "cell_type": "code",
      "metadata": {
        "id": "U1AsKaeuiLFd",
        "outputId": "2228834c-dcb7-4d2e-bde7-08220ee08f5b",
        "colab": {
          "base_uri": "https://localhost:8080/"
        }
      },
      "source": [
        "if RunningInCOLAB:\r\n",
        "    # Connect to gdrive\r\n",
        "    from google.colab import drive\r\n",
        "    drive.mount('/content/gdrive')\r\n",
        "    root_folder = \"/content/gdrive/My Drive/\"\r\n",
        "else:\r\n",
        "    root_folder = \"./\"\r\n",
        "\r\n",
        "data_folder = root_folder + \"Data/\""
      ],
      "execution_count": 11,
      "outputs": [
        {
          "output_type": "stream",
          "text": [
            "Mounted at /content/gdrive\n"
          ],
          "name": "stdout"
        }
      ]
    },
    {
      "cell_type": "code",
      "metadata": {
        "colab": {
          "base_uri": "https://localhost:8080/"
        },
        "id": "AKgHts7HJPkN",
        "outputId": "889bcdfd-d807-4957-d9e7-d1295aa6a75d"
      },
      "source": [
        "# Get entries from AtoZ index\r\n",
        "\r\n",
        "refresh = False\r\n",
        "\r\n",
        "print(\"Getting index...\")\r\n",
        "idx = UKGWAIndex()\r\n",
        "if refresh:\r\n",
        "    idx.indexfromweb()  # Read the A to Z index from the UKGWA website\r\n",
        "else:\r\n",
        "    idx.indexfromfile(data_folder + \"atoz_index.txt\")  # Read from a saved file\r\n",
        "\r\n",
        "print(\"Loaded index...\")"
      ],
      "execution_count": 15,
      "outputs": [
        {
          "output_type": "stream",
          "text": [
            "Getting index...\n"
          ],
          "name": "stdout"
        }
      ]
    },
    {
      "cell_type": "code",
      "metadata": {
        "id": "kx8U4145j6cA"
      },
      "source": [
        "idx.indextofile(data_folder + \"atoz_index.txt\")"
      ],
      "execution_count": 14,
      "outputs": []
    },
    {
      "cell_type": "code",
      "metadata": {
        "colab": {
          "base_uri": "https://localhost:8080/"
        },
        "id": "wLpB8Vig6A_x",
        "outputId": "86c2ced6-0fc7-464f-fce1-15f5ba01a5d2"
      },
      "source": [
        "# Index the text of the index to make it searchable and to get common ngrams\r\n",
        "\r\n",
        "st = SuffixTree(0, set(['on','for','and','of','&','the']))\r\n",
        "\r\n",
        "print(\"Loading suffixes...\")\r\n",
        "for w in idx:\r\n",
        "    w_p = text_to_parts(w[1])\r\n",
        "    i = 0\r\n",
        "    for p in w_p:\r\n",
        "        if p[3] == \"web\":\r\n",
        "            continue\r\n",
        "        i += 1\r\n",
        "        st.add_tokens(p[0].split(\" \"), w[0] + \".\" + str(i))\r\n",
        "\r\n",
        "\r\n"
      ],
      "execution_count": null,
      "outputs": [
        {
          "output_type": "stream",
          "text": [
            "Loading suffixes...\n"
          ],
          "name": "stdout"
        }
      ]
    },
    {
      "cell_type": "code",
      "metadata": {
        "colab": {
          "base_uri": "https://localhost:8080/"
        },
        "id": "NoHUnzPSJeSR",
        "outputId": "0b2c89eb-4f41-4778-b75f-a74e8d0ac865"
      },
      "source": [
        "# Print examples of top N common ngrams\r\n",
        "\r\n",
        "print(\"Getting phrases...\")\r\n",
        "s = st.get_phrases(30,2,10)\r\n",
        "s.sort(key=itemgetter(1), reverse=True)\r\n",
        "\r\n",
        "# TODO: Need to incorporate nearest match code to get references\r\n",
        "# Do inside suffix tree class\r\n",
        "N = 5\r\n",
        "for row in s[0:N]:\r\n",
        "    print(\" \".join(row[0]),row[1])\r\n",
        "    print(\"\\t\",idx.indexlookup(st.get_ngram_reference(row[2])[:-2]))\r\n",
        "    #for r in row[4]:\r\n",
        "    #    print(\"\\t\",idx.indexlookup(st.get_ngram_reference(r)[:-2]))"
      ],
      "execution_count": null,
      "outputs": [
        {
          "output_type": "stream",
          "text": [
            "Getting phrases...\n",
            "Twitter Archive 340\n",
            "\t ['UKGWA.13', 'ACAS (Advisory, Conciliation and Arbitration Service) – Twitter Archive', 'twitter', 'acasorguk', 'N']\n",
            "YouTube Archive 194\n",
            "\t ['UKGWA.14', 'ACAS (Advisory, Conciliation and Arbitration Service) – YouTube Archive', 'video', 'acasorguk', 'N']\n",
            "National Health Service 170\n",
            "\t ['UKGWA.1392', 'Department of Health (DH) – Innovation in the National Health Service (NHS)', '*', 'http://innovation.dh.gov.uk/', 'N']\n",
            "GOV.UK Blog 143\n",
            "\t ['UKGWA.5', 'Academies and free schools – GOV.UK Blog', '*', 'https://academyschools.blog.gov.uk/', 'N']\n",
            "Advisory Committee 58\n",
            "\t ['UKGWA.32', 'Administration of Radioactive Substances Advisory Committee', '*', 'http://www.arsac.org.uk/', 'N']\n"
          ],
          "name": "stdout"
        }
      ]
    }
  ]
}