{
  "nbformat": 4,
  "nbformat_minor": 0,
  "metadata": {
    "colab": {
      "name": "UKGWA AtoZ.ipynb",
      "provenance": [],
      "authorship_tag": "ABX9TyMkDkVk1qHnCI5gU7LSck/5",
      "include_colab_link": true
    },
    "kernelspec": {
      "name": "python3",
      "display_name": "Python 3"
    }
  },
  "cells": [
    {
      "cell_type": "markdown",
      "metadata": {
        "id": "view-in-github",
        "colab_type": "text"
      },
      "source": [
        "<a href=\"https://colab.research.google.com/github/mark-bell-tna/ComputationalAccess/blob/main/UKGWA_AtoZ.ipynb\" target=\"_parent\"><img src=\"https://colab.research.google.com/assets/colab-badge.svg\" alt=\"Open In Colab\"/></a>"
      ]
    },
    {
      "cell_type": "code",
      "metadata": {
        "id": "SMfHwmSC5tsS"
      },
      "source": [
        "import requests;      #used for connecting to the API\r\n",
        "import sys\r\n",
        "from time import sleep\r\n",
        "from math import log\r\n",
        "import os\r\n",
        "from urllib.request import urlopen\r\n",
        "import re\r\n",
        "from operator import itemgetter"
      ],
      "execution_count": 1,
      "outputs": []
    },
    {
      "cell_type": "code",
      "metadata": {
        "id": "46xjvP6Cacoa"
      },
      "source": [
        "if 'google.colab' in str(get_ipython()):\r\n",
        "    environment = \"Colab\"\r\n",
        "elif 'BINDER_SERVICE_HOST' in os.environ:\r\n",
        "    environment = \"Binder\"\r\n",
        "else:\r\n",
        "    environment = \"Unknown\""
      ],
      "execution_count": 2,
      "outputs": []
    },
    {
      "cell_type": "code",
      "metadata": {
        "id": "OcI59YgPNhdW"
      },
      "source": [
        "# For development purposes only when making changes in Github\r\n",
        "import shutil\r\n",
        "shutil.rmtree('ComputationalAccess')"
      ],
      "execution_count": null,
      "outputs": []
    },
    {
      "cell_type": "code",
      "metadata": {
        "id": "rhmfLGPrIGXw",
        "colab": {
          "base_uri": "https://localhost:8080/"
        },
        "outputId": "2ab5ffc4-2fef-4b1f-fab5-577d8d094bc0"
      },
      "source": [
        "if environment == \"Colab\":\r\n",
        "    !git clone https://github.com/mark-bell-tna/ComputationalAccess.git\r\n",
        "    sys.path.insert(0, 'ComputationalAccess')\r\n",
        "    github_data = \"ComputationalAccess/Data/\"\r\n",
        "    os.listdir(github_data)\r\n",
        "    # Connect to gdrive\r\n",
        "    from google.colab import drive\r\n",
        "    drive.mount('/content/gdrive')\r\n",
        "    data_folder = \"/content/gdrive/My Drive/Data/\"\r\n",
        "else:\r\n",
        "    github_data = \"Data/\"\r\n",
        "    data_folder = \"Data/\"\r\n"
      ],
      "execution_count": 3,
      "outputs": [
        {
          "output_type": "stream",
          "text": [
            "Cloning into 'ComputationalAccess'...\n",
            "remote: Enumerating objects: 91, done.\u001b[K\n",
            "remote: Counting objects: 100% (91/91), done.\u001b[K\n",
            "remote: Compressing objects: 100% (89/89), done.\u001b[K\n",
            "remote: Total 91 (delta 44), reused 0 (delta 0), pack-reused 0\u001b[K\n",
            "Unpacking objects: 100% (91/91), done.\n",
            "Mounted at /content/gdrive\n"
          ],
          "name": "stdout"
        }
      ]
    },
    {
      "cell_type": "code",
      "metadata": {
        "id": "8mJg0fKK51sQ"
      },
      "source": [
        "from ukgwa_index import UKGWAIndex\r\n",
        "from text_utils import SuffixTree, text_to_parts\r\n",
        "from web_structure import UKGWAStructure\r\n",
        "from ukgwa_query import QueryEngine"
      ],
      "execution_count": 4,
      "outputs": []
    },
    {
      "cell_type": "code",
      "metadata": {
        "colab": {
          "base_uri": "https://localhost:8080/"
        },
        "id": "AKgHts7HJPkN",
        "outputId": "c0faf05e-c6aa-472d-e942-4450494e96d3"
      },
      "source": [
        "# Get entries from AtoZ index\r\n",
        "\r\n",
        "refresh = False\r\n",
        "\r\n",
        "print(\"Getting index...\")\r\n",
        "idx = UKGWAIndex()\r\n",
        "if refresh:\r\n",
        "    idx.indexfromweb()  # Read the A to Z index from the UKGWA website\r\n",
        "else:\r\n",
        "    idx.indexfromfile(data_folder + \"atoz_index.txt\")  # Read from a saved file\r\n",
        "\r\n",
        "print(\"Loaded index...\")"
      ],
      "execution_count": 5,
      "outputs": [
        {
          "output_type": "stream",
          "text": [
            "Getting index...\n",
            "Loaded index...\n"
          ],
          "name": "stdout"
        }
      ]
    },
    {
      "cell_type": "code",
      "metadata": {
        "id": "lu7Oi7OoKBBe",
        "colab": {
          "base_uri": "https://localhost:8080/",
          "height": 346
        },
        "outputId": "2a255e6c-412a-4da5-bdc2-369ab5c54e37"
      },
      "source": [
        "# Updated the entries with Discovery catalogue references\r\n",
        "\r\n",
        "idx.discoveryfromfile(github_data + \"discovery_ukgwa_links.txt\")"
      ],
      "execution_count": 6,
      "outputs": [
        {
          "output_type": "error",
          "ename": "AttributeError",
          "evalue": "ignored",
          "traceback": [
            "\u001b[0;31m---------------------------------------------------------------------------\u001b[0m",
            "\u001b[0;31mAttributeError\u001b[0m                            Traceback (most recent call last)",
            "\u001b[0;32m<ipython-input-6-ad06e245caed>\u001b[0m in \u001b[0;36m<module>\u001b[0;34m()\u001b[0m\n\u001b[1;32m      1\u001b[0m \u001b[0;31m# Updated the entries with Discovery catalogue references\u001b[0m\u001b[0;34m\u001b[0m\u001b[0;34m\u001b[0m\u001b[0;34m\u001b[0m\u001b[0m\n\u001b[1;32m      2\u001b[0m \u001b[0;34m\u001b[0m\u001b[0m\n\u001b[0;32m----> 3\u001b[0;31m \u001b[0midx\u001b[0m\u001b[0;34m.\u001b[0m\u001b[0mdiscoveryfromfile\u001b[0m\u001b[0;34m(\u001b[0m\u001b[0mgithub_data\u001b[0m \u001b[0;34m+\u001b[0m \u001b[0;34m\"discovery_ukgwa_links.txt\"\u001b[0m\u001b[0;34m)\u001b[0m\u001b[0;34m\u001b[0m\u001b[0;34m\u001b[0m\u001b[0m\n\u001b[0m",
            "\u001b[0;32m/content/ComputationalAccess/ukgwa_index.py\u001b[0m in \u001b[0;36mdiscoveryfromfile\u001b[0;34m(self, filepath, update)\u001b[0m\n\u001b[1;32m     53\u001b[0m \u001b[0;34m\u001b[0m\u001b[0m\n\u001b[1;32m     54\u001b[0m         \u001b[0;32mif\u001b[0m \u001b[0mupdate\u001b[0m\u001b[0;34m:\u001b[0m\u001b[0;34m\u001b[0m\u001b[0;34m\u001b[0m\u001b[0m\n\u001b[0;32m---> 55\u001b[0;31m             \u001b[0mself\u001b[0m\u001b[0;34m.\u001b[0m\u001b[0mmatchukgwatodiscovery\u001b[0m\u001b[0;34m(\u001b[0m\u001b[0;34m)\u001b[0m\u001b[0;34m\u001b[0m\u001b[0;34m\u001b[0m\u001b[0m\n\u001b[0m\u001b[1;32m     56\u001b[0m \u001b[0;34m\u001b[0m\u001b[0m\n\u001b[1;32m     57\u001b[0m     \u001b[0;32mdef\u001b[0m \u001b[0mmatchukgwatodiscovery\u001b[0m\u001b[0;34m(\u001b[0m\u001b[0mself\u001b[0m\u001b[0;34m)\u001b[0m\u001b[0;34m:\u001b[0m\u001b[0;34m\u001b[0m\u001b[0;34m\u001b[0m\u001b[0m\n",
            "\u001b[0;32m/content/ComputationalAccess/ukgwa_index.py\u001b[0m in \u001b[0;36mmatchukgwatodiscovery\u001b[0;34m(self)\u001b[0m\n\u001b[1;32m     58\u001b[0m \u001b[0;34m\u001b[0m\u001b[0m\n\u001b[1;32m     59\u001b[0m         \u001b[0;32mfor\u001b[0m \u001b[0midx\u001b[0m \u001b[0;32min\u001b[0m \u001b[0mself\u001b[0m\u001b[0;34m:\u001b[0m\u001b[0;34m\u001b[0m\u001b[0;34m\u001b[0m\u001b[0m\n\u001b[0;32m---> 60\u001b[0;31m             \u001b[0murl\u001b[0m \u001b[0;34m=\u001b[0m \u001b[0midx\u001b[0m\u001b[0;34m.\u001b[0m\u001b[0mget_field\u001b[0m\u001b[0;34m(\u001b[0m\u001b[0midx\u001b[0m\u001b[0;34m,\u001b[0m \u001b[0;34m'URL'\u001b[0m\u001b[0;34m)\u001b[0m\u001b[0;34m\u001b[0m\u001b[0;34m\u001b[0m\u001b[0m\n\u001b[0m\u001b[1;32m     61\u001b[0m             \u001b[0;32mif\u001b[0m \u001b[0murl\u001b[0m \u001b[0;32min\u001b[0m \u001b[0mself\u001b[0m\u001b[0;34m.\u001b[0m\u001b[0mdiscoverylookup\u001b[0m\u001b[0;34m:\u001b[0m\u001b[0;34m\u001b[0m\u001b[0;34m\u001b[0m\u001b[0m\n\u001b[1;32m     62\u001b[0m                 \u001b[0midx\u001b[0m\u001b[0;34m.\u001b[0m\u001b[0mupdate_field\u001b[0m\u001b[0;34m(\u001b[0m\u001b[0midx\u001b[0m\u001b[0;34m,\u001b[0m \u001b[0;34m'CATREF'\u001b[0m\u001b[0;34m,\u001b[0m \u001b[0mself\u001b[0m\u001b[0;34m.\u001b[0m\u001b[0mdiscoverylookup\u001b[0m\u001b[0;34m[\u001b[0m\u001b[0murl\u001b[0m\u001b[0;34m]\u001b[0m\u001b[0;34m)\u001b[0m\u001b[0;34m\u001b[0m\u001b[0;34m\u001b[0m\u001b[0m\n",
            "\u001b[0;31mAttributeError\u001b[0m: 'str' object has no attribute 'get_field'"
          ]
        }
      ]
    },
    {
      "cell_type": "code",
      "metadata": {
        "id": "DIqZwJBnKa7Q",
        "colab": {
          "base_uri": "https://localhost:8080/"
        },
        "outputId": "aca969b6-ff74-4410-9ceb-ce20ed105101"
      },
      "source": [
        "# Test the last command worked - should see a catalogue reference in last position of list\r\n",
        "# If it says 'N' then try a few other numbers.\r\n",
        "idx.index['UKGWA.100']"
      ],
      "execution_count": null,
      "outputs": [
        {
          "output_type": "execute_result",
          "data": {
            "text/plain": [
              "['UKGWA.100',\n",
              " 'Advisory Panel on Country Information (APCI) (http://apci.homeoffice.gov.uk)',\n",
              " '*',\n",
              " 'http://apci.homeoffice.gov.uk/',\n",
              " 'HO 437']"
            ]
          },
          "metadata": {
            "tags": []
          },
          "execution_count": 10
        }
      ]
    },
    {
      "cell_type": "code",
      "metadata": {
        "id": "kx8U4145j6cA"
      },
      "source": [
        "# Only run this if you want to save the results of \"indexfromweb\" for next time\r\n",
        "idx.indextofile(data_folder + \"atoz_index.txt\")"
      ],
      "execution_count": null,
      "outputs": []
    },
    {
      "cell_type": "code",
      "metadata": {
        "colab": {
          "base_uri": "https://localhost:8080/"
        },
        "id": "wLpB8Vig6A_x",
        "outputId": "8d4a9a20-9442-45cc-9527-3dd8b5385dfd"
      },
      "source": [
        "# Index the text of the index to make it searchable and to get common ngrams\r\n",
        "\r\n",
        "st = SuffixTree(0, stopwords = set(['on','for','and','of','&','the']))\r\n",
        "\r\n",
        "print(\"Loading suffixes...\")\r\n",
        "for key in idx:\r\n",
        "    w_p = text_to_parts(idx.get_field(key, 'TEXT'))\r\n",
        "    i = 0\r\n",
        "    for p in w_p:\r\n",
        "        if p[3] == \"web\":\r\n",
        "            continue\r\n",
        "        i += 1\r\n",
        "        st.add_tokens(p[0].split(\" \"), key + \".\" + str(i))\r\n",
        "\r\n",
        "print(\"Loaded\")\r\n"
      ],
      "execution_count": 7,
      "outputs": [
        {
          "output_type": "stream",
          "text": [
            "Loading suffixes...\n",
            "Loaded\n"
          ],
          "name": "stdout"
        }
      ]
    },
    {
      "cell_type": "code",
      "metadata": {
        "colab": {
          "base_uri": "https://localhost:8080/"
        },
        "id": "NoHUnzPSJeSR",
        "outputId": "19cfe97c-2241-4d5f-f76d-5a73b246b644"
      },
      "source": [
        "# Print examples of top N common ngrams\r\n",
        "\r\n",
        "print(\"Getting phrases...\")\r\n",
        "s = st.get_phrases(30,2,10)\r\n",
        "s.sort(key=itemgetter(1), reverse=True)\r\n",
        "\r\n",
        "# TODO: Need to incorporate nearest match code to get references\r\n",
        "# Do inside suffix tree class\r\n",
        "N = 10\r\n",
        "topNindex = {}\r\n",
        "for row in s[0:N]:\r\n",
        "    this_list = [idx.lookup(st.get_ngram_reference(row[2])[:-2])]\r\n",
        "    ngram_text = \" \".join(row[0])\r\n",
        "    print(ngram_text, row[1])\r\n",
        "    print(\"\\t\", this_list[0])\r\n",
        "    for r in row[4]:\r\n",
        "        this_list.append(idx.lookup(st.get_ngram_reference(r)[:-2]))\r\n",
        "    topNindex[ngram_text] = this_list\r\n",
        "\r\n",
        "topNindex[\"National Health Service\"][0]"
      ],
      "execution_count": 8,
      "outputs": [
        {
          "output_type": "stream",
          "text": [
            "Getting phrases...\n",
            "Twitter Archive 340\n",
            "\t ['UKGWA.13', 'ACAS (Advisory, Conciliation and Arbitration Service) – Twitter Archive', 'twitter', 'acasorguk', 'N']\n",
            "YouTube Archive 194\n",
            "\t ['UKGWA.14', 'ACAS (Advisory, Conciliation and Arbitration Service) – YouTube Archive', 'video', 'acasorguk', 'N']\n",
            "National Health Service 170\n",
            "\t ['UKGWA.1392', 'Department of Health (DH) – Innovation in the National Health Service (NHS)', '*', 'http://innovation.dh.gov.uk/', 'JA 346']\n",
            "GOV.UK Blog 143\n",
            "\t ['UKGWA.5', 'Academies and free schools – GOV.UK Blog', '*', 'https://academyschools.blog.gov.uk/', 'N']\n",
            "Advisory Committee 58\n",
            "\t ['UKGWA.32', 'Administration of Radioactive Substances Advisory Committee', '*', 'http://www.arsac.org.uk/', 'JA 55']\n",
            "National Institute Health 48\n",
            "\t ['UKGWA.3548', 'National Health Service (NHS) – National Institute for Health Research – Involve', '*', 'http://www.invo.org.uk/', 'JA 32']\n",
            "Department Health 48\n",
            "\t ['UKGWA.153', 'Alistair Burns (Department of Health) Blog', '*', 'http://alistairburns.dh.gov.uk/', 'JA 282']\n",
            "HM Revenue Customs 46\n",
            "\t ['UKGWA.2495', 'HM Revenue & Customs (HMRC)', '*', 'http://www.hmrc.gov.uk/', 'CUST 157']\n",
            "Civil Service 42\n",
            "\t ['UKGWA.210', 'Are You Pension Savvy? – Civil Service Pension Scheme', '*', 'http://www.clear-events.co.uk/civilservicepensionscheme_quiz/', 'N']\n",
            "Department Environment, Food Rural Affairs 40\n",
            "\t ['UKGWA.1244', 'Department for Environment, Food and Rural Affairs (Defra) (http://ww2.defra.gov.uk/)', '*', 'http://ww2.defra.gov.uk/', 'N']\n"
          ],
          "name": "stdout"
        },
        {
          "output_type": "execute_result",
          "data": {
            "text/plain": [
              "['UKGWA.1392',\n",
              " 'Department of Health (DH) – Innovation in the National Health Service (NHS)',\n",
              " '*',\n",
              " 'http://innovation.dh.gov.uk/',\n",
              " 'JA 346']"
            ]
          },
          "metadata": {
            "tags": []
          },
          "execution_count": 8
        }
      ]
    },
    {
      "cell_type": "code",
      "metadata": {
        "id": "WszdZR08Mxb6",
        "colab": {
          "base_uri": "https://localhost:8080/",
          "height": 322
        },
        "outputId": "8f9d3e55-8e3d-45a7-9779-76915c67588e"
      },
      "source": [
        "WS = UKGWAStructure()\r\n",
        "\r\n",
        "for identifier in idx:\r\n",
        "    url = idx.get_field(identifier, 'URL')\r\n",
        "    WS.add_entry(url, identifier)"
      ],
      "execution_count": 9,
      "outputs": [
        {
          "output_type": "error",
          "ename": "AttributeError",
          "evalue": "ignored",
          "traceback": [
            "\u001b[0;31m---------------------------------------------------------------------------\u001b[0m",
            "\u001b[0;31mAttributeError\u001b[0m                            Traceback (most recent call last)",
            "\u001b[0;32m<ipython-input-9-961858362fde>\u001b[0m in \u001b[0;36m<module>\u001b[0;34m()\u001b[0m\n\u001b[1;32m      3\u001b[0m \u001b[0;32mfor\u001b[0m \u001b[0midentifier\u001b[0m \u001b[0;32min\u001b[0m \u001b[0midx\u001b[0m\u001b[0;34m:\u001b[0m\u001b[0;34m\u001b[0m\u001b[0;34m\u001b[0m\u001b[0m\n\u001b[1;32m      4\u001b[0m     \u001b[0murl\u001b[0m \u001b[0;34m=\u001b[0m \u001b[0midx\u001b[0m\u001b[0;34m.\u001b[0m\u001b[0mget_field\u001b[0m\u001b[0;34m(\u001b[0m\u001b[0midentifier\u001b[0m\u001b[0;34m,\u001b[0m \u001b[0;34m'URL'\u001b[0m\u001b[0;34m)\u001b[0m\u001b[0;34m\u001b[0m\u001b[0;34m\u001b[0m\u001b[0m\n\u001b[0;32m----> 5\u001b[0;31m     \u001b[0mWS\u001b[0m\u001b[0;34m.\u001b[0m\u001b[0madd_entry\u001b[0m\u001b[0;34m(\u001b[0m\u001b[0murl\u001b[0m\u001b[0;34m,\u001b[0m \u001b[0midentifier\u001b[0m\u001b[0;34m)\u001b[0m\u001b[0;34m\u001b[0m\u001b[0;34m\u001b[0m\u001b[0m\n\u001b[0m",
            "\u001b[0;32m/content/ComputationalAccess/web_structure.py\u001b[0m in \u001b[0;36madd_entry\u001b[0;34m(self, url, identifier)\u001b[0m\n\u001b[1;32m     22\u001b[0m         \u001b[0;32mif\u001b[0m \u001b[0midentifier\u001b[0m \u001b[0;32mis\u001b[0m \u001b[0;32mNone\u001b[0m\u001b[0;34m:\u001b[0m\u001b[0;34m\u001b[0m\u001b[0;34m\u001b[0m\u001b[0m\n\u001b[1;32m     23\u001b[0m             \u001b[0midentifier\u001b[0m \u001b[0;34m=\u001b[0m \u001b[0murl\u001b[0m\u001b[0;34m\u001b[0m\u001b[0;34m\u001b[0m\u001b[0m\n\u001b[0;32m---> 24\u001b[0;31m         \u001b[0mparsed\u001b[0m \u001b[0;34m=\u001b[0m \u001b[0mself\u001b[0m\u001b[0;34m.\u001b[0m\u001b[0mparseurl\u001b[0m\u001b[0;34m(\u001b[0m\u001b[0murl\u001b[0m\u001b[0;34m)\u001b[0m\u001b[0;34m\u001b[0m\u001b[0;34m\u001b[0m\u001b[0m\n\u001b[0m\u001b[1;32m     25\u001b[0m         \u001b[0msuper\u001b[0m\u001b[0;34m(\u001b[0m\u001b[0;34m)\u001b[0m\u001b[0;34m.\u001b[0m\u001b[0madd_entry\u001b[0m\u001b[0;34m(\u001b[0m\u001b[0mself\u001b[0m\u001b[0;34m.\u001b[0m\u001b[0mindex\u001b[0m\u001b[0;34m[\u001b[0m\u001b[0midentifier\u001b[0m\u001b[0;34m]\u001b[0m\u001b[0;34m,\u001b[0m \u001b[0;34m[\u001b[0m\u001b[0mparsed\u001b[0m\u001b[0;34m.\u001b[0m\u001b[0mschem\u001b[0m\u001b[0;34m,\u001b[0m \u001b[0mparsed\u001b[0m\u001b[0;34m.\u001b[0m\u001b[0mnetloc\u001b[0m\u001b[0;34m,\u001b[0m \u001b[0mparsed\u001b[0m\u001b[0;34m.\u001b[0m\u001b[0mpath\u001b[0m\u001b[0;34m,\u001b[0m \u001b[0mparsed\u001b[0m\u001b[0;34m.\u001b[0m\u001b[0mquery\u001b[0m\u001b[0;34m]\u001b[0m\u001b[0;34m)\u001b[0m\u001b[0;34m\u001b[0m\u001b[0;34m\u001b[0m\u001b[0m\n\u001b[1;32m     26\u001b[0m \u001b[0;34m\u001b[0m\u001b[0m\n",
            "\u001b[0;31mAttributeError\u001b[0m: 'UKGWAStructure' object has no attribute 'parseurl'"
          ]
        }
      ]
    },
    {
      "cell_type": "code",
      "metadata": {
        "id": "tFeR2EYFcgvU"
      },
      "source": [
        "Q = QueryEngine()"
      ],
      "execution_count": null,
      "outputs": []
    },
    {
      "cell_type": "code",
      "metadata": {
        "id": "2r_GTOlQhCdO"
      },
      "source": [
        "for q in iter(Q.selections):\r\n",
        "    print(q)"
      ],
      "execution_count": null,
      "outputs": []
    },
    {
      "cell_type": "code",
      "metadata": {
        "id": "hpnvZakpSSWK",
        "colab": {
          "base_uri": "https://localhost:8080/"
        },
        "outputId": "36adea63-f3a0-44ef-bb5b-0d4c60825cff"
      },
      "source": [
        "ngram_of_interest = \"Advisory Committee\"\r\n",
        "domain_summary = {}\r\n",
        "[Q.set_select(x[0], False, override = True) for x in topNindex['Twitter Archive']]\r\n",
        "[Q.set_select(x[0], False, True) for x in topNindex['YouTube Archive']]\r\n",
        "[Q.set_select(x[0], True, False) for x in topNindex[ngram_of_interest]]\r\n",
        "\r\n",
        "for identifier in Q:\r\n",
        "    url_parts = WS.index[identifier]\r\n",
        "    dt = WS.domaintotree(url_parts.netloc, strip_www=True)\r\n",
        "    dom_name = \".\".join(reversed(dt[:3]))\r\n",
        "    if dom_name in domain_summary:\r\n",
        "        domain_summary[dom_name] += 1\r\n",
        "    else:\r\n",
        "        domain_summary[dom_name] = 1\r\n",
        "\r\n",
        "sorted_domains = sorted([(k,v) for k,v in domain_summary.items()], key=itemgetter(1), reverse=True)\r\n",
        "print(sorted_domains)\r\n",
        "sum([v[1] for v in sorted_domains])"
      ],
      "execution_count": null,
      "outputs": [
        {
          "output_type": "stream",
          "text": [
            "[('defra.gov.uk', 8), ('dh.gov.uk', 6), ('doh.gov.uk', 5), ('food.gov.uk', 5), ('ofcom.org.uk', 3), ('$.acasorguk', 2), ('$.number10gov', 2), ('$.tate', 2), ('$.dcms', 2), ('$.MHRAgovuk', 2), ('$.cabinetofficeuk', 2), ('$.spacegovuk', 2), ('$.sciencemuseum', 2), ('$.sdnpa', 2), ('$.ukhomeoffice', 2), ('$.maibgovuk', 2), ('$.bisgovuk', 2), ('$.NERCscience', 2), ('$.deccgovuk', 2), ('$.VisitBritainBiz', 2), ('$.britishcouncil', 2), ('$.VOAgovuk', 2), ('$.VisitEnglandBiz', 2), ('$.London2012', 2), ('$.CommunitiesUK', 2), ('$.ofqual', 2), ('$.networkrail', 2), ('$.BusinessLinkGov', 2), ('$.railregulation', 2), ('$.ahrcpress', 2), ('$.educationgovuk', 2), ('$.uksupremecourt', 2), ('$.dvsagovuk', 2), ('$.transportgovuk', 2), ('$.NewForestNPA', 2), ('$.britishmuseum', 2), ('$.LandRegGov', 2), ('independent.gov.uk', 2), ('mhra.gov.uk', 2), ('forestry.gov.uk', 2), ('quangos.ercouncil.org', 2), ('atipac.org.uk', 2), ('$.officestudents', 1), ('$.ucpinquiry', 1), ('$.SentencingCCL', 1), ('$.HMRCdigital', 1), ('$.CommissionCE', 1), ('$.NHSDigital', 1), ('$.10DowningStreet', 1), ('$.UKResilience', 1), ('$.VictimsComm', 1), ('$.dhgovuk', 1), ('$.aphagovuk', 1), ('$.AGO_UK', 1), ('$.RPC_GOV_UK', 1), ('$.ukgovbluebelt', 1), ('$.highwaysengland', 1), ('$.commonsleader', 1), ('$.epsrc', 1), ('$.DefAcUK', 1), ('$.nca_uk', 1), ('$.thefca', 1), ('$.NHSResolution', 1), ('$.ScotlandOffice', 1), ('$.STFC_Matters', 1), ('$.MHCLG', 1), ('$.MHRApress', 1), ('$.seafishuk', 1), ('$.odigovuk', 1), ('$.Law_Commission', 1), ('$.gdsteam', 1), ('$.I_W_M', 1), ('$.bonavacantia_uk', 1), ('$.The_IPO', 1), ('$.hboroinquests', 1), ('$.directgov', 1), ('$.OFFA_HE', 1), ('$.DASAccelerator', 1), ('$.2012govuk', 1), ('$.dwpgovuk', 1), ('$.phsombudsman', 1), ('$.uknationalparks', 1), ('$.he_archaeology', 1), ('$.uk_life_science', 1), ('$.Ofcom', 1), ('$.dhscgovuk', 1), ('$.NHSBT', 1), ('$.Parole_Board', 1), ('$.ukcivilservice', 1), ('$.bankofengland', 1), ('$.publicapptscomm', 1), ('$.olevgovuk', 1), ('$.frcnews', 1), ('$.HE_Archive', 1), ('$.findsorguk', 1), ('$.naturalengland', 1), ('$.ukhmf', 1), ('$.CefasGovUK', 1), ('$.boemuseum', 1), ('$.dwppressoffice', 1), ('$.nuclearpolice', 1), ('$.GamRegGB', 1), ('$.HeritageCrime', 1), ('$.iconews', 1), ('$.opggovuk', 1), ('$.uk_sport', 1), ('$.signup2vote', 1), ('$.HeritageAdvice', 1), ('$.V_and_A', 1), ('$.RoyalMarinesMus', 1), ('$.HistoricEngland', 1), ('$.btpauthority', 1), ('$.GES_UK', 1), ('$.waterwatchdog', 1), ('$.UKStatsAuth', 1), ('$.OFTgov', 1), ('$.ONSdigital', 1), ('$.JNCC_UK', 1), ('$.dpmoffice', 1), ('$.nhsbsa', 1), ('$.uk_glaa', 1), ('$.BroadsAuth', 1), ('$.TNApressofficer', 1), ('$.theCCCuk', 1), ('$.dfid_uk', 1), ('$.NCSC', 1), ('$.CICRegulator', 1), ('$.nhsengland', 1), ('$.London2012Fest', 1), ('$.metoffice', 1), ('$.WiltonPark', 1), ('$.NPGLondon', 1), ('$.WomenEqualities', 1), ('$.gov_procurement', 1), ('$.mod_dio', 1), ('$.RoyalMintUK', 1), ('$.UKCB_CAP', 1), ('$.BritishArmy', 1), ('$.CivServComm', 1), ('$.esrc', 1), ('$.Health_2020', 1), ('$.helptobuy', 1), ('$.ipagov', 1), ('$.DefenceOps', 1), ('$.uknatarchives', 1), ('$.ofgem', 1), ('$.Ofwat', 1), ('$.transportfocus', 1), ('$.foreignoffice', 1), ('$.metofficeUK', 1), ('$.peakdistrict', 1), ('$.Apprenticeships', 1), ('$.natinfracom', 1), ('$.LEASEonline', 1), ('$.prof_standards', 1), ('$.RMGreenwich', 1), ('$.IndependentCI', 1), ('$.hmrcpressoffice', 1), ('$.britishbbank', 1), ('$.becomeajudge', 1), ('$.MoJGovUK', 1), ('$.soanemuseum', 1), ('$.dstlmod', 1), ('$.GEFFRYE', 1), ('$.ons', 1), ('$.CoRWM', 1), ('$.LegalAidAgency', 1), ('$.tradegovuk', 1), ('$.faststreamuk', 1), ('$.ArabPartnership', 1), ('$.dounreay', 1), ('$.iammandeville', 1), ('$.innovateuk', 1), ('$.RoyalNavy', 1), ('$.NAM_London', 1), ('$.exmoornp', 1), ('$.FCOEurope', 1), ('$.icai_uk', 1), ('$.northyorkmoors', 1), ('$.cpsuk', 1), ('$.UKGovScotland', 1), ('$.EducateAgainst', 1), ('$.HMCTSgovuk', 1), ('$.UKEF', 1), ('$.PublicStandards', 1), ('$.carequalitycomm', 1), ('$.Legal_Ombudsman', 1), ('$.NHM_London', 1), ('$.UKGovPropAgency', 1), ('$.JudiciaryUK', 1), ('$.csfasttrackapp', 1), ('$.ESFA_academies', 1), ('$.DigiCareersGov', 1), ('$.HomesEngland', 1), ('$.The_MMO', 1), ('$.nhs_healthedeng', 1), ('$.businessisgreat', 1), ('$.railwaymuseum', 1), ('$.VisitEngland', 1), ('$.ESFAgov', 1), ('$.GovUK', 1), ('$.rwm_gdf_uk', 1), ('$.PayReviewBodies', 1), ('$.RDPENetwork', 1), ('$.nhschoices', 1), ('$.SLCComms', 1), ('$.LSB_EngandWal', 1), ('$.DfTCareers', 1), ('$.youdecide2014', 1), ('$.TheatresTrust', 1), ('$.EntZonesGov', 1), ('$.ArmedForcesDay', 1), ('$.InquiryCSA', 1), ('$.YourMoneyAdvice', 1), ('$.HornimanMuseum', 1), ('$.HRA_Latest', 1), ('$.TPASnews', 1), ('$.chtycommission', 1), ('$.xgovcentenary', 1), ('$.FCOtravel', 1), ('$.GSR_UK', 1), ('$.iicsa_vscp', 1), ('$.TheAHDB', 1), ('$.SuffrageFlag', 1), ('$.NHSImprovement', 1), ('$.MCA_Media', 1), ('$.raibgovuk', 1), ('$.HS2ltd', 1), ('$.iamwenlock', 1), ('$.UKGovWales', 1), ('$.walesoffice', 1), ('$.dataenvagency', 1), ('$.PHE_children', 1), ('$.cyberawaregov', 1), ('$.RightToBuy', 1), ('$.trinityhouse_uk', 1), ('$.TerrorismPolice', 1), ('$.cheveningfco', 1), ('$.legislation', 1), ('$.NIOPressOffice', 1), ('$.DVLAgovuk', 1), ('$.foresightgovuk', 1), ('$.obr_uk', 1), ('$.FleetAirArmMus', 1), ('$.defraregs', 1), ('$.NatForestCo', 1), ('$.NIOgov', 1), ('$.HMRCgovuk', 1), ('$.TPRgovuk', 1), ('$.nsandi', 1), ('$.rssb_rail', 1), ('$.commschols', 1), ('$.hmicfrs', 1), ('$.aaibgovuk', 1), ('$.IPCOffice', 1), ('$.BEIS_stats', 1), ('$.defrastats', 1), ('$.NSIpressoffice', 1), ('$.ogauthority', 1), ('$.WallaceMuseum', 1), ('$.Forest_Research', 1), ('$.Ruralpay', 1), ('$.housingombuds', 1), ('$.yorkshire_dales', 1), ('$.HMIProbation', 1), ('$.bfi', 1), ('$.H_S_E', 1), ('$.MarshallScholar', 1), ('$.NlandNP', 1), ('$.gaotg', 1), ('$.policeconduct', 1), ('$.nationalgallery', 1), ('$.supportsyrians', 1), ('$.Sport_England', 1), ('$.NationalCareers', 1), ('$.defragovuk', 1), ('$.dartmoornpa', 1), ('$.2012GovPress', 1), ('$.NHSCFA', 1), ('$.railandroad', 1), ('$.NatMuseumRN', 1), ('$.HMLandRegistry', 1), ('$.PHE_obesity', 1), ('$.mediamuseum', 1), ('$.thinkgovuk', 1), ('$.businessgov', 1), ('$.dftstats', 1), ('$.EnvAgency', 1), ('$.UKagainstDaesh', 1), ('$.marketflowers', 1), ('$.sgsa_uk', 1), ('$.CoalAuthority', 1), ('$.ace_national', 1), ('$.lakedistrictnpa', 1), ('$.NDGoffice', 1), ('$.ukti', 1), ('$.ukhesa', 1), ('$.hfea', 1), ('$.hmpps', 1), ('$.marketfood', 1), ('$.PHE_uk', 1), ('$.SIAuk', 1), ('$.ForestryCommEng', 1), ('$.mycafcass', 1), ('$.RedTapeChall', 1), ('$.ipsauk', 1), ('$.DataGovUK', 1), ('$.SB_Commissioner', 1), ('$.RoyalAirForce', 1), ('$.end_svc', 1), ('$.HTA_UK', 1), ('$.NDAgovuk', 1), ('$.ukantidoping', 1), ('$.RAFMUSEUM', 1), ('$.JHubDefence', 1), ('$.NML_Muse', 1), ('$.OPS_HMG', 1), ('$.CompaniesHouse', 1), ('$.ChildrensComm', 1), ('$.grenfellinquiry', 1), ('$.insolvencygovuk', 1), ('$.OpentoExport', 1), ('$.welbeckdsfc', 1), ('$.foodgov', 1), ('$.PINSgov', 1), ('$.bbsrc', 1), ('$.DefraUKAir', 1), ('$.SellafieldLtd', 1), ('$.ofstednews', 1), ('$.ccavgovuk', 1), ('$.VeteransUK_MOD', 1), ('$.vmdgovuk', 1), ('$.hmrcbusiness', 1), ('$.CICAgov', 1), ('$.NICEcomms', 1), ('$.terrorwatchdog', 1), ('$.UKgovcomms', 1), ('$.selltdcareers', 1), ('$.Royal_Armouries', 1), ('$.The_MRC', 1), ('$.llwrsite', 1), ('$._YJB', 1), ('$.birminghamcg22', 1), ('$.ehrc', 1), ('$.ordnancesurvey', 1), ('$.GCHQ', 1), ('$.CMAgovUK', 1), ('$.sim_manchester', 1), ('$.hmtreasury', 1), ('$.UKRI_News', 1), ('$.DefenceHQ', 1), ('$.defenceheadquarters', 1), ('$.UCjB9vzZPgjCNftVFEgOajeg', 1), ('$.UCxcMEa8AP_sV5WJJp01Mmew', 1), ('$.ofcom', 1), ('$.HSCIC1', 1), ('$.UC68PZJdKAzOWv0yDHqXrmZw', 1), ('$.DowningSt', 1), ('$.departmentofhealth', 1), ('$.UCwD96KwHnHORtnhqhf9CQJw', 1), ('$.NationalCrimeAgency', 1), ('$.UCCz2mmKhYUpQJEviiAzOEqA', 1), ('$.epsrcvideo', 1), ('$.SciTechUK', 1), ('$.UCYvlSOtmAbb04oaWVFJosgw', 1), ('$.GovDigitalService', 1), ('$.ipogovuk', 1), ('$.ImperialWarMuseum', 1), ('$.workandpensions', 1), ('$.phsouser', 1), ('$.directgovuk', 1), ('$.UCNhyZFB48XQ96ZTHBgHrkRQ', 1), ('$.UKCivilservice', 1), ('$.bankofenglanduk', 1), ('$.citbuk', 1), ('$.UCJnruDT-kGYkUHkNO__3Yrw', 1), ('$.portableantiquities', 1), ('$.UKFRC', 1), ('$.naturalenglandvideo', 1), ('$.UCl0HlHox5LBs4bMS5d491AA', 1), ('$.icocomms', 1), ('$.UCJvox_whVy-BzETrJY1uMTA', 1), ('$.UCE5NrYwlK8qXWM_QMp6kAXg', 1), ('$.UCuEBH8w8WTBB0ZnvUUtJj7g', 1), ('$.OfficialUKSport', 1), ('$.vamuseum', 1), ('$.UChsbpRsD0SiZNsvwdZAR4zQ', 1), ('$.royalmarinesmuseum', 1), ('$.councilforwater', 1), ('$.UCLN99vKvEXrVKe2rrGX-1RA', 1), ('$.OFTWebEditor', 1), ('$.deputyprimeminister', 1), ('$.UCE57GAOQJ9pa0ryiQHqkqjg', 1), ('$.UCMILjnFk-I-7M-7w46tVVyg', 1), ('$.TheNHSBSA', 1), ('$.ukdfid', 1), ('$.UKCPNI', 1), ('$.TheNHSEngland', 1), ('$.natportraitgallery', 1), ('$.TheQEIICC', 1), ('$.royalmintuk', 1), ('$.TheMetOffice', 1), ('$.theesrc', 1), ('$.ApprenticeshipsNAS', 1), ('$.UC-s0LFBvXrISd41lu3jGhew', 1), ('$.NationalArchives08', 1), ('$.ofgemtv', 1), ('$.peakdistrictnpa', 1), ('$.NHSGiveBlood', 1), ('$.RoyalMuseumsGrnwich', 1), ('$.SFEFILM', 1), ('$.change4life', 1), ('$.eis2win', 1), ('$.MinistryofJusticeUK', 1), ('$.SoaneMuseum', 1), ('$.ukforeignoffice', 1), ('$.Geffrye', 1), ('$.theFastStreamUK', 1), ('$.UCVD1ZQZujsE09G6e0QDxK5Q', 1), ('$.DounreayTV', 1), ('$.Innovateuk', 1), ('$.NationalArmyMuseumUK', 1), ('$.UCgUgh9Nu0z80VPO961Z-9tQ', 1), ('$.TheNorthYorkMoors', 1), ('$.UKCPS', 1), ('$.energyclimatechange', 1), ('$.onsstats', 1), ('$.UKEFWeb', 1), ('$.UC5Altka7XMeXog5ZFzBT9dA', 1), ('$.LegalOmbudsman', 1), ('$.naturalhistorymuseum', 1), ('$.cqcdigitalcomms', 1), ('$.fcotravel', 1), ('$.MarineManagementOrg', 1), ('$.BusinessisGREAT', 1), ('$.HeritageLotteryFund', 1), ('$.HealthEducationEng', 1), ('$.NatRailwayMuseum', 1), ('$.UCpFJyxnagWhTWURacGN42KQ', 1), ('$.HayesCollinsMedia', 1), ('$.NHSChoices', 1), ('$.MoneyAdviceService', 1), ('$.midstaffsinquiry', 1), ('$.horniman', 1), ('$.UC1m4I8YAI86zj-ksMwsarKg', 1), ('$.TheCharityCommission', 1), ('$.UCFj70_9F31CLQY76H5yg7AQ', 1), ('$.UCOVrA6CKedUmM4PU38XS4HQ', 1), ('$.UCyqZ0cGPowTAKSylNUD_D4Q', 1), ('$.UC6rzUVH0Uqk62zc7eX8yajA', 1), ('$.hs2ltd', 1), ('$.nsandidigitalteam', 1), ('$.UC7MzQwBCMi4o3b2wZXbx0Ew', 1), ('$.DVLAgov', 1), ('$.thepensionsregulator', 1), ('$.UC8n8xXeCMli6x3OkTIrp9yw', 1), ('$.UC2tbiiEwmPDt8XAkoHIZ4-A', 1), ('$.SeafishTheAuthority', 1), ('$.PensionTube', 1), ('$.TheWallacecollection', 1), ('$.AAIBGOVUK', 1), ('$.UCyGwamm_eoM69zC1wO9qVDg', 1), ('$.UCephlX7TU4emwmA03yOZ1pQ', 1), ('$.hmrcgovuk', 1), ('$.TheYorkshiredales', 1), ('$.NorthumberlandNP', 1), ('$.BFIfilms', 1), ('$.healthandsafetyexec', 1), ('$.nationalgalleryuk', 1), ('$.GAOTG', 1), ('$.DartmoorNPA', 1), ('$.NMRNPortsmouth', 1), ('$.DefraUK', 1), ('$.nationalmediamuseum', 1), ('$.EnvironmentAgencyTV', 1), ('$.BusinessSupportGov', 1), ('$.UCrisabWrFCpBtF8h6gYqaEw', 1), ('$.thinkuk', 1), ('$.TheCoalAuthority', 1), ('$.artscouncilofengland', 1), ('$.UCEj9UxZQPAGtXK9nc62woyg', 1), ('$.uktiweb', 1), ('$.UC_MvH8-BF5q89zdDUqi4zJQ', 1), ('$.publichealthengland', 1), ('$.ForestryCommission1', 1), ('$.mosimanchester', 1), ('$.UCDlHlrRHlCwzRRrv8D31XWg', 1), ('$.UCDQ81COg_ktcyuj6fp02-QQ', 1), ('$.UCEtb9OC-jwB4i2Rm-u0YyrA', 1), ('$.UCMx0cFhYhXDMfbrIZ2jzVFA', 1), ('$.ndagovuk', 1), ('$.RAFMuseum', 1), ('$.NMLWebTeam', 1), ('$.TheCompaniesHouse', 1), ('$.UCriFe51AU_RomWvSzZxCgfA', 1), ('$.ScottishParl', 1), ('$.berrtube', 1), ('$.UCMxYjfZsqLa8DanN0r2eNJw', 1), ('$.UCspfY4rpODprWA_9zeZ_9EQ', 1), ('$.WelbeckDSFC', 1), ('$.UCUsjJJ-nWnSFJra1JB5qxNQ', 1), ('$.bbsrcmedia', 1), ('$.Ofstednews', 1), ('$.FoodStandardsAgency', 1), ('$.diusgovuk', 1), ('$.NICEmedia', 1), ('$.RoyalArmouries', 1), ('$.UCZUzrJciZwDJgUo0tomDAZQ', 1), ('$.MRCcomms', 1), ('$.OSMapping', 1), ('$.youthjusticeboard', 1), ('$.EqualityHumanRights', 1), ('$.UCja1TPKrUBUYqPXP8mRQEEQ', 1), ('$.hmtreasuryuk', 1), ('arsac.org.uk', 1), ('hse.gov.uk', 1), ('honours.gov.uk', 1), ('dptac.gov.uk', 1), ('english-heritage.org.uk', 1), ('ssac.org.uk', 1), ('blog.gov.uk', 1), ('$.acme-uk.org', 1), ('homeoffice.gov.uk', 1), ('wales.gov.uk', 1), ('acnfp.gov.uk', 1), ('communities.gov.uk', 1), ('sacn.gov.uk', 1), ('pesticides.gov.uk', 1), ('lawcom.gov.uk', 1), ('deac.org.uk', 1), ('pasa.nhs.uk', 1), ('dwp.gov.uk', 1), ('seac.gov.uk', 1), ('acoba.gov.uk', 1), ('berr.gov.uk', 1), ('plr.uk.com', 1)]\n"
          ],
          "name": "stdout"
        },
        {
          "output_type": "execute_result",
          "data": {
            "text/plain": [
              "595"
            ]
          },
          "metadata": {
            "tags": []
          },
          "execution_count": 15
        }
      ]
    },
    {
      "cell_type": "code",
      "metadata": {
        "id": "bvp8t1OFjf_7",
        "colab": {
          "base_uri": "https://localhost:8080/"
        },
        "outputId": "e8ec6282-0574-427f-f4cc-ae557f787471"
      },
      "source": [
        "for identifier in Q:\r\n",
        "    print(idx.indexlookup(identifier))\r\n",
        "    break"
      ],
      "execution_count": null,
      "outputs": [
        {
          "output_type": "stream",
          "text": [
            "['UKGWA.13', 'ACAS (Advisory, Conciliation and Arbitration Service) – Twitter Archive', 'twitter', 'acasorguk', 'N']\n"
          ],
          "name": "stdout"
        }
      ]
    },
    {
      "cell_type": "code",
      "metadata": {
        "id": "HVU0y3xJUfDv",
        "colab": {
          "base_uri": "https://localhost:8080/"
        },
        "outputId": "7257fc3a-e855-4733-8161-3728029b4a00"
      },
      "source": [
        "series_summary = {}\r\n",
        "for identifier in Q:\r\n",
        "    entry = idx.indexlookup(identifier)\r\n",
        "    series = entry[4].split(\" \")[0]\r\n",
        "    if series in series_summary:\r\n",
        "        series_summary[series] += 1\r\n",
        "    else:\r\n",
        "        series_summary[series] = 1\r\n",
        "\r\n",
        "sorted_series = sorted([(k,v) for k,v in series_summary.items()], key=itemgetter(1), reverse=True)\r\n",
        "print(sorted_series)"
      ],
      "execution_count": null,
      "outputs": [
        {
          "output_type": "stream",
          "text": [
            "[('N', 550), ('JA', 10), ('KM', 5), ('MAF', 5), ('JB', 3), ('OCM', 3), ('AT', 2), ('CAB', 2), ('F', 2), ('DEFE', 2), ('DFT', 2), ('FM', 1), ('RH', 1), ('HO', 1), ('WA', 1), ('CLG', 1), ('SE', 1), ('BC', 1), ('SR', 1), ('PF', 1)]\n"
          ],
          "name": "stdout"
        }
      ]
    }
  ]
}