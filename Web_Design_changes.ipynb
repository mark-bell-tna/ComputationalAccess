{
  "nbformat": 4,
  "nbformat_minor": 0,
  "metadata": {
    "colab": {
      "name": "Web Design changes.ipynb",
      "provenance": [],
      "authorship_tag": "ABX9TyP5ArRws4IP9q9GRaNuqn+y",
      "include_colab_link": true
    },
    "kernelspec": {
      "name": "python3",
      "display_name": "Python 3"
    }
  },
  "cells": [
    {
      "cell_type": "markdown",
      "metadata": {
        "id": "view-in-github",
        "colab_type": "text"
      },
      "source": [
        "<a href=\"https://colab.research.google.com/github/mark-bell-tna/ComputationalAccess/blob/main/Web_Design_changes.ipynb\" target=\"_parent\"><img src=\"https://colab.research.google.com/assets/colab-badge.svg\" alt=\"Open In Colab\"/></a>"
      ]
    },
    {
      "cell_type": "code",
      "metadata": {
        "id": "58QUWFfRMKa5"
      },
      "source": [
        "import requests;      #used for connecting to the API\r\n",
        "import sys\r\n",
        "from time import sleep\r\n",
        "from math import log\r\n",
        "import os\r\n",
        "from urllib.request import urlopen\r\n",
        "import re\r\n",
        "from operator import itemgetter\r\n",
        "from matplotlib import pyplot as plt\r\n",
        "import time\r\n",
        "import timeit\r\n",
        "import numpy as np"
      ],
      "execution_count": 47,
      "outputs": []
    },
    {
      "cell_type": "code",
      "metadata": {
        "id": "kGvBV-IhL62m"
      },
      "source": [
        "if 'google.colab' in str(get_ipython()):\r\n",
        "    environment = \"Colab\"\r\n",
        "elif 'BINDER_SERVICE_HOST' in os.environ:\r\n",
        "    environment = \"Binder\"\r\n",
        "else:\r\n",
        "    environment = \"Unknown\""
      ],
      "execution_count": 1,
      "outputs": []
    },
    {
      "cell_type": "code",
      "metadata": {
        "colab": {
          "base_uri": "https://localhost:8080/"
        },
        "id": "GUzApYmxMDuc",
        "outputId": "2c11bba4-44e4-45c3-a7b0-f643e45a208d"
      },
      "source": [
        "if environment == \"Colab\":\r\n",
        "    !git clone https://github.com/mark-bell-tna/ComputationalAccess.git\r\n",
        "    sys.path.insert(0, 'ComputationalAccess')\r\n",
        "    github_data = \"ComputationalAccess/Data/\"\r\n",
        "    os.listdir(github_data)\r\n",
        "    # Connect to gdrive\r\n",
        "    from google.colab import drive\r\n",
        "    drive.mount('/content/gdrive')\r\n",
        "    data_folder = \"/content/gdrive/My Drive/Data/\"\r\n",
        "else:\r\n",
        "    github_data = \"Data/\"\r\n",
        "    data_folder = \"Data/\""
      ],
      "execution_count": 4,
      "outputs": [
        {
          "output_type": "stream",
          "text": [
            "fatal: destination path 'ComputationalAccess' already exists and is not an empty directory.\n",
            "Mounted at /content/gdrive\n"
          ],
          "name": "stdout"
        }
      ]
    },
    {
      "cell_type": "code",
      "metadata": {
        "colab": {
          "base_uri": "https://localhost:8080/"
        },
        "id": "DulW6Z6BMwDo",
        "outputId": "880f983c-99c0-4f1a-82a1-d058e6283bb7"
      },
      "source": [
        "os.listdir(data_folder)"
      ],
      "execution_count": 6,
      "outputs": [
        {
          "output_type": "execute_result",
          "data": {
            "text/plain": [
              "['atoz_index.txt', 'www.northumberlandnationalpark.org.uk']"
            ]
          },
          "metadata": {
            "tags": []
          },
          "execution_count": 6
        }
      ]
    },
    {
      "cell_type": "code",
      "metadata": {
        "id": "fnBQayZ7M0M_"
      },
      "source": [
        "mydata = data_folder + \"www.northumberlandnationalpark.org.uk\"\r\n",
        "mydata = data_folder + \"www.ukri.org\"\r\n",
        "mydata = data_folder + \"www.bis.gov.uk.ukspaceagency\"\r\n",
        "myfile = open(mydata, \"r\")\r\n",
        "#3a79714466b44560703982cacc7df755|20170302101357|171|171\r\n",
        "hash_data = []\r\n",
        "for row in myfile:\r\n",
        "    fields = row[:-1].split(\"|\")\r\n",
        "    fields[1] = np.datetime64(\"-\".join([fields[1][:4],fields[1][4:6],fields[1][6:8]]),'D')\r\n",
        "    fields[2] = int(fields[2])\r\n",
        "    fields[3] = int(fields[3])\r\n",
        "    fields.append(fields[2]/fields[3])\r\n",
        "    if fields[3] < 5 or fields[4] < 0.2:\r\n",
        "      continue\r\n",
        "    hash_data.append(fields)\r\n",
        "myfile.close()"
      ],
      "execution_count": 127,
      "outputs": []
    },
    {
      "cell_type": "code",
      "metadata": {
        "colab": {
          "base_uri": "https://localhost:8080/",
          "height": 590
        },
        "id": "TpVTHqu9Ntbs",
        "outputId": "435576f6-1dc1-4ff1-acdc-a9635fad6a88"
      },
      "source": [
        "# Draw chart of earliest and latest snapshots by site\r\n",
        "# Red for earliest, blue for latest\r\n",
        "import matplotlib.dates as mdates\r\n",
        "\r\n",
        "hash_data.sort(key=itemgetter(1), reverse=True)\r\n",
        "hashes,snapshots,hash_counts,page_counts, pct = zip(*hash_data)\r\n",
        "hashes = [h[:8] for h in hashes]\r\n",
        "hash_summary = {}\r\n",
        "for i in range(len(hashes)):\r\n",
        "    this_snap = snapshots[i]\r\n",
        "    this_hash = hashes[i]\r\n",
        "    if this_hash in hash_summary:\r\n",
        "        this_sum = hash_summary[this_hash]\r\n",
        "    else:\r\n",
        "        this_sum = [this_snap, this_snap]\r\n",
        "    this_sum = [min(this_sum[0], this_snap), max(this_sum[1], this_snap)]\r\n",
        "    hash_summary[this_hash] = this_sum\r\n",
        "\r\n",
        "hash_items = [[k,v] for k,v in hash_summary.items()]\r\n",
        "print(hash_items)\r\n",
        "hash_keys, hash_dates = zip(*hash_items)\r\n",
        "hash_keys = tuple(hash_keys)\r\n",
        "print(hash_keys)\r\n",
        "print([i for (i,j) in hash_dates])\r\n",
        "min_dates = [i for (i,j) in hash_dates]\r\n",
        "max_dates = [j for (i,j) in hash_dates]\r\n",
        "print(type(min_dates), len(min_dates), type(max_dates), len(max_dates), type(hash_keys), len(hash_keys))\r\n",
        "print(hash_keys[0],min_dates[0],max_dates[0])\r\n",
        "\r\n",
        "#x = [n for n in range(len(x_labels))]\r\n",
        "#d = [h for h in zip(y,z)]\r\n",
        "#y = [i for (i,j) in d]\r\n",
        "#z = [j for (i,j) in d]\r\n",
        "#plt.figure(figsize=(10,8))\r\n",
        "fig, ax = plt.subplots(figsize=(15,8))\r\n",
        "years = mdates.YearLocator()   # every year\r\n",
        "months = mdates.MonthLocator()  # every month\r\n",
        "years_fmt = mdates.DateFormatter('%Y')\r\n",
        "\r\n",
        "scat = ax.scatter(snapshots, hashes, s = hash_counts, c = pct, cmap = 'YlOrRd')\r\n",
        "ax.xaxis.set_major_locator(years)\r\n",
        "ax.xaxis.set_minor_locator(months)\r\n",
        "ax.xaxis.set_major_formatter(years_fmt)\r\n",
        "\r\n",
        "for i in range(len(hash_keys)):\r\n",
        "    ax.plot((min_dates[i], max_dates[i]), (hash_keys[i], hash_keys[i]),c='black')\r\n",
        "\r\n",
        "#plt.plot(z, x, 'bo', markersize = 4)\r\n",
        "#plt.plot(([i for (i,j) in d], [j for (i,j) in d]),(x,x),c='black')\r\n",
        "legend1 = ax.legend(*scat.legend_elements(num=5),\r\n",
        "                    loc=\"upper right\", title=\"Coverage\")\r\n",
        "ax.add_artist(legend1)\r\n",
        "kw = dict(prop=\"sizes\", num=7, color=scat.cmap(0.7)) #,  func=lambda s: s)\r\n",
        "legend2 = ax.legend(*scat.legend_elements(**kw),\r\n",
        "                    loc=\"lower left\", title=\"Pages\")\r\n",
        "#plt.xticks(rotation=45, ticks=[int(str(y) + '0101') for y in range(2010,2019)],\r\n",
        "#           labels = [str(y) for y in range(2010,2019)])\r\n",
        "#plt.yticks(ticks=x,labels = x_labels,fontsize=8)\r\n",
        "plt.show()"
      ],
      "execution_count": 128,
      "outputs": [
        {
          "output_type": "stream",
          "text": [
            "[['1799ff8d', [numpy.datetime64('2012-08-17'), numpy.datetime64('2013-11-04')]], ['d9ab38bd', [numpy.datetime64('2011-03-14'), numpy.datetime64('2013-11-04')]], ['3e133e6e', [numpy.datetime64('2011-03-14'), numpy.datetime64('2012-07-08')]]]\n",
            "('1799ff8d', 'd9ab38bd', '3e133e6e')\n",
            "[numpy.datetime64('2012-08-17'), numpy.datetime64('2011-03-14'), numpy.datetime64('2011-03-14')]\n",
            "<class 'list'> 3 <class 'list'> 3 <class 'tuple'> 3\n",
            "1799ff8d 2012-08-17 2013-11-04\n"
          ],
          "name": "stdout"
        },
        {
          "output_type": "display_data",
          "data": {
            "image/png": "[encoded data removed]",
            "text/plain": [
              "<Figure size 1080x576 with 1 Axes>"
            ]
          },
          "metadata": {
            "tags": [],
            "needs_background": "light"
          }
        }
      ]
    }
  ]
}