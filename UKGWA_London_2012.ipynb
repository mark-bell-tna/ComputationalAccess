{
  "nbformat": 4,
  "nbformat_minor": 0,
  "metadata": {
    "colab": {
      "name": "UKGWA London 2012.ipynb",
      "provenance": [],
      "authorship_tag": "ABX9TyPtVsXPVQcrSSjek0Xfe73V",
      "include_colab_link": true
    },
    "kernelspec": {
      "name": "python3",
      "display_name": "Python 3"
    }
  },
  "cells": [
    {
      "cell_type": "markdown",
      "metadata": {
        "id": "view-in-github",
        "colab_type": "text"
      },
      "source": [
        "<a href=\"https://colab.research.google.com/github/mark-bell-tna/ComputationalAccess/blob/main/UKGWA_London_2012.ipynb\" target=\"_parent\"><img src=\"https://colab.research.google.com/assets/colab-badge.svg\" alt=\"Open In Colab\"/></a>"
      ]
    },
    {
      "cell_type": "code",
      "metadata": {
        "id": "SMfHwmSC5tsS"
      },
      "source": [
        "import requests;      #used for connecting to the API\r\n",
        "import sys\r\n",
        "from time import sleep\r\n",
        "from math import log\r\n",
        "import os\r\n",
        "from urllib.request import urlopen\r\n",
        "import re\r\n",
        "from operator import itemgetter\r\n",
        "from matplotlib import pyplot as plt"
      ],
      "execution_count": 1,
      "outputs": []
    },
    {
      "cell_type": "code",
      "metadata": {
        "id": "46xjvP6Cacoa"
      },
      "source": [
        "if 'google.colab' in str(get_ipython()):\r\n",
        "    environment = \"Colab\"\r\n",
        "elif 'BINDER_SERVICE_HOST' in os.environ:\r\n",
        "    environment = \"Binder\"\r\n",
        "else:\r\n",
        "    environment = \"Unknown\""
      ],
      "execution_count": 2,
      "outputs": []
    },
    {
      "cell_type": "code",
      "metadata": {
        "id": "OcI59YgPNhdW"
      },
      "source": [
        "# For development purposes only when making changes in Github\r\n",
        "import shutil\r\n",
        "shutil.rmtree('ComputationalAccess')"
      ],
      "execution_count": 3,
      "outputs": []
    },
    {
      "cell_type": "code",
      "metadata": {
        "id": "rhmfLGPrIGXw",
        "colab": {
          "base_uri": "https://localhost:8080/"
        },
        "outputId": "c0b4e0ae-f3e4-4475-a841-e925fbc08d7f"
      },
      "source": [
        "if environment == \"Colab\":\r\n",
        "    !git clone https://github.com/mark-bell-tna/ComputationalAccess.git\r\n",
        "    sys.path.insert(0, 'ComputationalAccess')\r\n",
        "    github_data = \"ComputationalAccess/Data/\"\r\n",
        "    os.listdir(github_data)\r\n",
        "    # Connect to gdrive\r\n",
        "    from google.colab import drive\r\n",
        "    drive.mount('/content/gdrive')\r\n",
        "    data_folder = \"/content/gdrive/My Drive/Data/\"\r\n",
        "else:\r\n",
        "    github_data = \"Data/\"\r\n",
        "    data_folder = \"Data/\"\r\n"
      ],
      "execution_count": 4,
      "outputs": [
        {
          "output_type": "stream",
          "text": [
            "Cloning into 'ComputationalAccess'...\n",
            "remote: Enumerating objects: 16, done.\u001b[K\n",
            "remote: Counting objects: 100% (16/16), done.\u001b[K\n",
            "remote: Compressing objects: 100% (16/16), done.\u001b[K\n",
            "remote: Total 128 (delta 6), reused 0 (delta 0), pack-reused 112\u001b[K\n",
            "Receiving objects: 100% (128/128), 112.95 KiB | 718.00 KiB/s, done.\n",
            "Resolving deltas: 100% (64/64), done.\n",
            "Drive already mounted at /content/gdrive; to attempt to forcibly remount, call drive.mount(\"/content/gdrive\", force_remount=True).\n"
          ],
          "name": "stdout"
        }
      ]
    },
    {
      "cell_type": "code",
      "metadata": {
        "id": "8mJg0fKK51sQ"
      },
      "source": [
        "from ukgwa_index import UKGWAIndex\r\n",
        "from text_utils import SuffixTree, text_to_parts\r\n",
        "from web_structure import UKGWAStructure\r\n",
        "from ukgwa_query import QueryEngine\r\n",
        "from cdx_indexer import TemporalIndexer\r\n",
        "from ukgwa_textindex import UKGWATextIndex"
      ],
      "execution_count": 5,
      "outputs": []
    },
    {
      "cell_type": "code",
      "metadata": {
        "colab": {
          "base_uri": "https://localhost:8080/"
        },
        "id": "AKgHts7HJPkN",
        "outputId": "338c3bd7-0f36-44a8-9bd2-6c81bd740ce5"
      },
      "source": [
        "# Get entries from AtoZ index\r\n",
        "\r\n",
        "refresh = False\r\n",
        "\r\n",
        "print(\"Getting index...\")\r\n",
        "ATOZ = UKGWAIndex()\r\n",
        "if refresh:\r\n",
        "    ATOZ.indexfromweb()  # Read the A to Z index from the UKGWA website\r\n",
        "else:\r\n",
        "    ATOZ.indexfromfile(data_folder + \"atoz_index.txt\")  # Read from a saved file\r\n",
        "\r\n",
        "print(\"Loaded index...\")"
      ],
      "execution_count": 49,
      "outputs": [
        {
          "output_type": "stream",
          "text": [
            "Getting index...\n",
            "Loaded index...\n"
          ],
          "name": "stdout"
        }
      ]
    },
    {
      "cell_type": "code",
      "metadata": {
        "id": "lu7Oi7OoKBBe"
      },
      "source": [
        "# Updated the entries with Discovery catalogue references\r\n",
        "\r\n",
        "ATOZ.discoveryfromfile(github_data + \"discovery_ukgwa_links.txt\")"
      ],
      "execution_count": null,
      "outputs": []
    },
    {
      "cell_type": "code",
      "metadata": {
        "id": "DIqZwJBnKa7Q",
        "colab": {
          "base_uri": "https://localhost:8080/"
        },
        "outputId": "4cc9fb47-2650-4bc6-bd53-ff1a125d0bc9"
      },
      "source": [
        "# Test the last command worked - should see a catalogue reference in last position of list\r\n",
        "# If it says 'N' then try a few other numbers.\r\n",
        "ATOZ.index['UKGWA.100']"
      ],
      "execution_count": null,
      "outputs": [
        {
          "output_type": "execute_result",
          "data": {
            "text/plain": [
              "['UKGWA.100',\n",
              " 'Advisory Panel on Country Information (APCI) (http://apci.homeoffice.gov.uk)',\n",
              " '*',\n",
              " 'http://apci.homeoffice.gov.uk/',\n",
              " 'HO 437']"
            ]
          },
          "metadata": {
            "tags": []
          },
          "execution_count": 8
        }
      ]
    },
    {
      "cell_type": "code",
      "metadata": {
        "id": "kx8U4145j6cA"
      },
      "source": [
        "# Only run this if you want to save the results of \"indexfromweb\" for next time\r\n",
        "ATOZ.indextofile(data_folder + \"atoz_index.txt\")"
      ],
      "execution_count": null,
      "outputs": []
    },
    {
      "cell_type": "code",
      "metadata": {
        "colab": {
          "base_uri": "https://localhost:8080/"
        },
        "id": "wLpB8Vig6A_x",
        "outputId": "39829e7a-3810-4a14-e59e-2ad95f502932"
      },
      "source": [
        "# Index the text of the index to make it searchable and to get common ngrams\r\n",
        "\r\n",
        "TI = UKGWATextIndex(stop_words = set(['on','for','and','of','&','the','in','to']))\r\n",
        "\r\n",
        "print(\"Loading text to index...\")\r\n",
        "for key in ATOZ:\r\n",
        "    entry_type = ATOZ.get_field(key, 'CAT')\r\n",
        "    if entry_type != '*':  # Archived web sites\r\n",
        "        continue    # skip twitter, youtube, etc.\r\n",
        "    w_p = text_to_parts(ATOZ.get_field(key, 'TEXT'))\r\n",
        "    i = 0\r\n",
        "    for p in w_p:\r\n",
        "        if p[3] == \"web\":\r\n",
        "            continue\r\n",
        "        i += 1\r\n",
        "        TI.add_tokens(p[0].split(\" \"), key + \".\" + str(i))\r\n",
        "\r\n",
        "print(\"Loaded\")\r\n"
      ],
      "execution_count": 54,
      "outputs": [
        {
          "output_type": "stream",
          "text": [
            "Loading text to index...\n",
            "Loaded\n"
          ],
          "name": "stdout"
        }
      ]
    },
    {
      "cell_type": "code",
      "metadata": {
        "colab": {
          "base_uri": "https://localhost:8080/"
        },
        "id": "NoHUnzPSJeSR",
        "outputId": "9a13e868-d8d0-4dd4-b791-321a07afe7fa"
      },
      "source": [
        "# Print examples of top N common ngrams\r\n",
        "\r\n",
        "print(\"Getting phrases...\")\r\n",
        "ph = TI.get_phrases(min_count=30, min_length=2)\r\n",
        "ph.sort(key=itemgetter(3), reverse=True)\r\n",
        "\r\n",
        "# Change N to view more phrases\r\n",
        "N = 5\r\n",
        "topNindex = {}\r\n",
        "for row in ph[0:N]:\r\n",
        "    print(row)"
      ],
      "execution_count": 55,
      "outputs": [
        {
          "output_type": "stream",
          "text": [
            "Getting phrases...\n",
            "[['National', 'Health', 'Service'], 3, 150, 150]\n",
            "[['GOV.UK', 'Blog'], 2, 144, 144]\n",
            "[['Advisory', 'Committee'], 2, 59, 59]\n",
            "[['National', 'Institute', 'Health'], 3, 47, 47]\n",
            "[['Department', 'Health'], 2, 44, 44]\n"
          ],
          "name": "stdout"
        }
      ]
    },
    {
      "cell_type": "code",
      "metadata": {
        "id": "WszdZR08Mxb6"
      },
      "source": [
        "WS = UKGWAStructure()\r\n",
        "\r\n",
        "for identifier in ATOZ:\r\n",
        "    url = ATOZ.get_field(identifier, 'URL')\r\n",
        "    WS.add_entry(url, identifier)"
      ],
      "execution_count": 56,
      "outputs": []
    },
    {
      "cell_type": "code",
      "metadata": {
        "id": "tFeR2EYFcgvU"
      },
      "source": [
        "Q = QueryEngine()\r\n",
        "Q.add_view('TextIdx', TI)\r\n",
        "Q.add_view('Domain', WS)\r\n",
        "Q.add_view('AtoZ', ATOZ)"
      ],
      "execution_count": 57,
      "outputs": []
    },
    {
      "cell_type": "code",
      "metadata": {
        "colab": {
          "base_uri": "https://localhost:8080/"
        },
        "id": "vjCkFojANe0w",
        "outputId": "8742579c-b330-4cd6-afb2-d8b8879371e9"
      },
      "source": [
        "search_terms = ['Olympic Games','London 2012']\r\n",
        "search_terms = [s.split(' ') for s in search_terms]\r\n",
        "search_terms"
      ],
      "execution_count": 58,
      "outputs": [
        {
          "output_type": "execute_result",
          "data": {
            "text/plain": [
              "[['Olympic', 'Games'], ['London', '2012']]"
            ]
          },
          "metadata": {
            "tags": []
          },
          "execution_count": 58
        }
      ]
    },
    {
      "cell_type": "code",
      "metadata": {
        "colab": {
          "base_uri": "https://localhost:8080/"
        },
        "id": "0Z2sUXqpNtXP",
        "outputId": "2b541e40-dfdf-48cc-cc2e-4e5804dfc4b7"
      },
      "source": [
        "match_ids = [x for x in Q.filter_view('TextIdx', 'NGRAM', '=', *search_terms)]\r\n",
        "print(\"Matched:\",len(match_ids),'Ids')"
      ],
      "execution_count": 59,
      "outputs": [
        {
          "output_type": "stream",
          "text": [
            "(['Olympic', 'Games'], ['London', '2012'])\n",
            "Matched: 33 Ids\n"
          ],
          "name": "stdout"
        }
      ]
    },
    {
      "cell_type": "code",
      "metadata": {
        "id": "c_BBWLJdPJe8"
      },
      "source": [
        "# Set query to include matching ids\r\n",
        "_ = [Q.include(x[:-2]) for x in match_ids]"
      ],
      "execution_count": 60,
      "outputs": []
    },
    {
      "cell_type": "code",
      "metadata": {
        "colab": {
          "base_uri": "https://localhost:8080/"
        },
        "id": "AL4NgIjPPwUI",
        "outputId": "d00d5c45-7bde-4d3e-bc13-62606381913d"
      },
      "source": [
        "# Summarise included ids by web domain\r\n",
        "domain_summary = {}\r\n",
        "for identifier in Q:\r\n",
        "    url_parts = WS.index[identifier]\r\n",
        "    dt = WS.domaintotree(url_parts[WS.fields['NETLOC']], strip_www=True)\r\n",
        "    dom_name = \".\".join(reversed(dt[:2]))\r\n",
        "    if dom_name in domain_summary:\r\n",
        "        domain_summary[dom_name] += 1\r\n",
        "    else:\r\n",
        "        domain_summary[dom_name] = 1\r\n",
        "\r\n",
        "sorted_domains = sorted([(k,v) for k,v in domain_summary.items()], key=itemgetter(1), reverse=True)\r\n",
        "print(sorted_domains)"
      ],
      "execution_count": 61,
      "outputs": [
        {
          "output_type": "stream",
          "text": [
            "[('london2012.com', 18), ('gov.uk', 6), ('org.uk', 1), ('tumblr.com', 1), ('visitlondon.com', 1), ('cslondon.org', 1), ('nhs.uk', 1), ('mod.uk', 1), ('mylondon2012.com', 1)]\n"
          ],
          "name": "stdout"
        }
      ]
    },
    {
      "cell_type": "code",
      "metadata": {
        "colab": {
          "base_uri": "https://localhost:8080/",
          "height": 351
        },
        "id": "NlcrH6JKRQ8U",
        "outputId": "81364bae-d113-42e9-cb9b-b7b6a8a8e8d7"
      },
      "source": [
        "# Bar chart of the figures derived above\r\n",
        "x,y = zip(*sorted_domains)\r\n",
        "plt.bar(x,y)\r\n",
        "plt.xticks(rotation=45)"
      ],
      "execution_count": 62,
      "outputs": [
        {
          "output_type": "execute_result",
          "data": {
            "text/plain": [
              "([0, 1, 2, 3, 4, 5, 6, 7, 8], <a list of 9 Text major ticklabel objects>)"
            ]
          },
          "metadata": {
            "tags": []
          },
          "execution_count": 62
        },
        {
          "output_type": "display_data",
          "data": {
            "image/png": "[encoded data removed]",
            "text/plain": [
              "<Figure size 432x288 with 1 Axes>"
            ]
          },
          "metadata": {
            "tags": [],
            "needs_background": "light"
          }
        }
      ]
    },
    {
      "cell_type": "code",
      "metadata": {
        "id": "EYEI-KagUW8Z"
      },
      "source": [
        "T = TemporalIndexer()\r\n",
        "Q.add_view(\"Temp\", T)"
      ],
      "execution_count": 63,
      "outputs": []
    },
    {
      "cell_type": "code",
      "metadata": {
        "id": "ysyv4fJkT6pd"
      },
      "source": [
        "# This takes quite a while to run\r\n",
        "# Get snapshot data from the CDX API\r\n",
        "for identifier in Q:\r\n",
        "    T.add_entry(ATOZ.get_field(identifier, 'URL'), identifier)\r\n",
        "print(\"Finished\")"
      ],
      "execution_count": 64,
      "outputs": []
    },
    {
      "cell_type": "code",
      "metadata": {
        "colab": {
          "base_uri": "https://localhost:8080/"
        },
        "id": "UQVXxn2NSnLA",
        "outputId": "aa9ead88-d710-4bd1-d523-2e21b841b88f"
      },
      "source": [
        "# View a sample temporal record\r\n",
        "print(\"Field names:\",sorted([[x[1],x[0]] for x in T.fields.items()], key=itemgetter(0)))\r\n",
        "for t in T:\r\n",
        "  print(T.lookup(t))\r\n",
        "  break"
      ],
      "execution_count": 65,
      "outputs": [
        {
          "output_type": "stream",
          "text": [
            "Field names: [[0, 'MIN'], [1, 'MAX'], [2, 'COUNT'], [3, 'CDX']]\n",
            "[20110202123526, 20130228085626, 31, <cdx_reader.CDXReader object at 0x7f2572bc84a8>]\n"
          ],
          "name": "stdout"
        }
      ]
    },
    {
      "cell_type": "code",
      "metadata": {
        "colab": {
          "base_uri": "https://localhost:8080/",
          "height": 513
        },
        "id": "jBX8QHsZXq22",
        "outputId": "748f85d7-c1e9-453f-baef-a33846533ed1"
      },
      "source": [
        "# Draw chart of earliest snapshots by site\r\n",
        "first_last_snapshots = [[idx] + T.lookup(idx, ['MIN','MAX']) for idx in Q]\r\n",
        "first_last_snapshots = [x for x in first_last_snapshots if x[1] != 90000000000000]  # Hide this in Temporal class. Odd bug in snapshot crawling code causes them\r\n",
        "first_last_snapshots = [x for x in first_last_snapshots if x[2] != 0]\r\n",
        "x,y,z = zip(*first_last_snapshots)\r\n",
        "plt.figure(figsize=(10,8))\r\n",
        "plt.scatter(y,x)\r\n",
        "plt.xticks(rotation=45)\r\n",
        "plt.yticks(fontsize=8)\r\n",
        "plt.show()"
      ],
      "execution_count": 88,
      "outputs": [
        {
          "output_type": "display_data",
          "data": {
            "image/png": "[encoded data removed]",
            "text/plain": [
              "<Figure size 720x576 with 1 Axes>"
            ]
          },
          "metadata": {
            "tags": [],
            "needs_background": "light"
          }
        }
      ]
    },
    {
      "cell_type": "code",
      "metadata": {
        "colab": {
          "base_uri": "https://localhost:8080/",
          "height": 513
        },
        "id": "I7B2pUosddwf",
        "outputId": "bc16dd23-3b62-4836-db7b-c46f13a1ed6b"
      },
      "source": [
        "# Same chart for latest snapshots by site\r\n",
        "plt.figure(figsize=(10,8))\r\n",
        "plt.scatter(z,x)\r\n",
        "plt.xticks(rotation=45)\r\n",
        "plt.yticks(fontsize=8)\r\n",
        "plt.show()"
      ],
      "execution_count": 75,
      "outputs": [
        {
          "output_type": "display_data",
          "data": {
            "image/png": "[encoded data removed]",
            "text/plain": [
              "<Figure size 720x576 with 1 Axes>"
            ]
          },
          "metadata": {
            "tags": [],
            "needs_background": "light"
          }
        }
      ]
    },
    {
      "cell_type": "code",
      "metadata": {
        "colab": {
          "base_uri": "https://localhost:8080/",
          "height": 526
        },
        "id": "urHdzTiPkrHf",
        "outputId": "3cdd2603-5c20-47e0-ba40-5d2049b728f3"
      },
      "source": [
        "# Plot by snapshot count\r\n",
        "snapshot_counts = [[idx] + T.lookup(idx, ['COUNT']) for idx in Q]\r\n",
        "x,y = zip(*snapshot_counts)\r\n",
        "plt.figure(figsize=(10,8))\r\n",
        "plt.bar(x,y)\r\n",
        "plt.xticks(rotation='vertical')\r\n",
        "plt.xticks(fontsize=8)\r\n",
        "plt.show()"
      ],
      "execution_count": 95,
      "outputs": [
        {
          "output_type": "display_data",
          "data": {
            "image/png": "[encoded data removed]",
            "text/plain": [
              "<Figure size 720x576 with 1 Axes>"
            ]
          },
          "metadata": {
            "tags": [],
            "needs_background": "light"
          }
        }
      ]
    },
    {
      "cell_type": "code",
      "metadata": {
        "colab": {
          "base_uri": "https://localhost:8080/"
        },
        "id": "3_JJXYGwlJRx",
        "outputId": "27150250-83a7-4bc2-95a6-2c8eacc8ac8b"
      },
      "source": [
        "# What are the top N results?\r\n",
        "N = 5\r\n",
        "snapshot_counts.sort(key=itemgetter(1),reverse=True)\r\n",
        "for idx in snapshot_counts[0:N]:\r\n",
        "    print(ATOZ.lookup(idx[0]), \"Snapshots:\",idx[1])"
      ],
      "execution_count": 97,
      "outputs": [
        {
          "output_type": "stream",
          "text": [
            "['UKGWA.3084', 'London 2012 – Olympic Games', '*', 'http://www.london2012.com/', 'PF 15'] Snapshots: 190\n",
            "['UKGWA.799', 'Commission for a Sustainable London 2012', '*', 'http://www.cslondon.org/', 'PF 73'] Snapshots: 79\n",
            "['UKGWA.3089', 'London 2012 – Shop', '*', 'http://shop.london2012.com/', 'PF 161'] Snapshots: 72\n",
            "['UKGWA.3082', 'London 2012 – Mascots', '*', 'https://mascot-games.london2012.com/', 'PF 142'] Snapshots: 56\n",
            "['UKGWA.3076', 'London 2012 – Inspire Programme', '*', 'http://www.london2012.com/get-involved/inspire-programme/index.php', 'PF 131'] Snapshots: 49\n"
          ],
          "name": "stdout"
        }
      ]
    },
    {
      "cell_type": "code",
      "metadata": {
        "id": "aw9wAb0PfLWF",
        "colab": {
          "base_uri": "https://localhost:8080/"
        },
        "outputId": "eeaf2d5f-4078-47b1-cd57-d8fa35ec4e3e"
      },
      "source": [
        "# Get entries where first snapshot is less than 1/1/2011\r\n",
        "t_filt = Q.filter_view(\"Temp\", 'MIN', '<', 20110101000000)\r\n",
        "for t in t_filt:\r\n",
        "    print(t, ATOZ.lookup(t))"
      ],
      "execution_count": 89,
      "outputs": [
        {
          "output_type": "stream",
          "text": [
            "UKGWA.3075 ['UKGWA.3075', 'London 2012 – Going for Gold along with the Get Set London Roadshow Blog (http://www.london2012.com/blog/2008/03/20/going-for-gold-along-with-the-get-set-london-roadshow.php)', '*', 'http://www.london2012.com/blog/2008/03/20/going-for-gold-along-with-the-get-set-london-roadshow.php', 'PF 74']\n",
            "UKGWA.3084 ['UKGWA.3084', 'London 2012 – Olympic Games', '*', 'http://www.london2012.com/', 'PF 15']\n",
            "UKGWA.3076 ['UKGWA.3076', 'London 2012 – Inspire Programme', '*', 'http://www.london2012.com/get-involved/inspire-programme/index.php', 'PF 131']\n",
            "UKGWA.3074 ['UKGWA.3074', 'London 2012 – Going for Gold along with the Get Set London Roadshow (http://www.london2012.com/blog/2008/03/going-for-gold-along-with-the-get-set-london-roadshow.php)', '*', 'http://www.london2012.com/blog/2008/03/going-for-gold-along-with-the-get-set-london-roadshow.php', 'PF 74']\n",
            "UKGWA.799 ['UKGWA.799', 'Commission for a Sustainable London 2012', '*', 'http://www.cslondon.org/', 'PF 73']\n",
            "UKGWA.3529 ['UKGWA.3529', 'National Health Service (NHS) – Fit for London 2012', '*', 'http://www.fitforlondon2012.nhs.uk/', 'JA 74']\n",
            "UKGWA.1956 ['UKGWA.1956', 'Foreign and Commonwealth Office (FCO) – London 2012 Olympics', '*', 'http://www.fco.gov.uk/en/global-issues/london-2012/', 'FCO 142']\n",
            "UKGWA.2322 ['UKGWA.2322', 'Health and Safety Executive (HSE) – The London 2012 Olympic and Paralympic Games: The Health and Safety Learning Legacy', '*', 'http://www.hse.gov.uk/aboutus/london-2012-games/index.htm', 'N']\n",
            "UKGWA.3089 ['UKGWA.3089', 'London 2012 – Shop', '*', 'http://shop.london2012.com/', 'PF 161']\n",
            "UKGWA.3088 ['UKGWA.3088', 'London 2012 – Public Access at The Olympic Delivery Authority', '*', 'http://planning.london2012.com/publicaccess/', 'PF 128']\n"
          ],
          "name": "stdout"
        }
      ]
    },
    {
      "cell_type": "code",
      "metadata": {
        "colab": {
          "base_uri": "https://localhost:8080/"
        },
        "id": "hLI83QrqWZGl",
        "outputId": "883d038f-992a-40e8-fe75-b826493cd555"
      },
      "source": [
        "# Get entries where first snapshot is after the Games (roughly)\r\n",
        "t_filt = Q.filter_view(\"Temp\", 'MIN', '>', 20120901000000)\r\n",
        "for t in t_filt:\r\n",
        "    print(t, ATOZ.lookup(t))"
      ],
      "execution_count": 85,
      "outputs": [
        {
          "output_type": "stream",
          "text": [
            "UKGWA.3078 ['UKGWA.3078', 'London 2012 – Learning Legacy (http://learninglegacy.independent.gov.uk/)', '*', 'http://learninglegacy.independent.gov.uk/', 'PF 141']\n",
            "UKGWA.1957 ['UKGWA.1957', 'Foreign and Commonwealth Office (FCO) – Pope Benedict sends message of support to London Olympic Games', '*', 'http://ukinholysee.fco.gov.uk/en/news/?view=News&id=791576182', 'FCO 144']\n",
            "UKGWA.3073 ['UKGWA.3073', 'London 2012 – Get Set', '*', 'http://original-getset.london2012.com/en/home', 'PF 172']\n"
          ],
          "name": "stdout"
        }
      ]
    },
    {
      "cell_type": "code",
      "metadata": {
        "colab": {
          "base_uri": "https://localhost:8080/"
        },
        "id": "n12suFuTfO-Z",
        "outputId": "a52413ae-a286-451d-aa04-e7f33b3e4274"
      },
      "source": [
        "T.lookup('UKGWA.1957')"
      ],
      "execution_count": 87,
      "outputs": [
        {
          "output_type": "execute_result",
          "data": {
            "text/plain": [
              "[90000000000000, 0, 0, <cdx_reader.CDXReader at 0x7f256a4e6198>]"
            ]
          },
          "metadata": {
            "tags": []
          },
          "execution_count": 87
        }
      ]
    },
    {
      "cell_type": "code",
      "metadata": {
        "colab": {
          "base_uri": "https://localhost:8080/"
        },
        "id": "XAS347EWdwqB",
        "outputId": "f075f109-f957-40e5-ea82-1822632a3ef5"
      },
      "source": [
        "# Get entries where last snapshot is before the Games (roughly)\r\n",
        "t_filt = Q.filter_view(\"Temp\", 'MAX', '<', 20120726000000)\r\n",
        "for t in t_filt:\r\n",
        "    print(t, ATOZ.lookup(t))"
      ],
      "execution_count": 86,
      "outputs": [
        {
          "output_type": "stream",
          "text": [
            "UKGWA.3075 ['UKGWA.3075', 'London 2012 – Going for Gold along with the Get Set London Roadshow Blog (http://www.london2012.com/blog/2008/03/20/going-for-gold-along-with-the-get-set-london-roadshow.php)', '*', 'http://www.london2012.com/blog/2008/03/20/going-for-gold-along-with-the-get-set-london-roadshow.php', 'PF 74']\n",
            "UKGWA.3529 ['UKGWA.3529', 'National Health Service (NHS) – Fit for London 2012', '*', 'http://www.fitforlondon2012.nhs.uk/', 'JA 74']\n",
            "UKGWA.1957 ['UKGWA.1957', 'Foreign and Commonwealth Office (FCO) – Pope Benedict sends message of support to London Olympic Games', '*', 'http://ukinholysee.fco.gov.uk/en/news/?view=News&id=791576182', 'FCO 144']\n"
          ],
          "name": "stdout"
        }
      ]
    },
    {
      "cell_type": "code",
      "metadata": {
        "id": "vc1u32QmXvdI"
      },
      "source": [
        "# Reset the query selection\r\n",
        "Q.clear()\r\n",
        "_ = [Q.include(x[:-2]) for x in match_ids]"
      ],
      "execution_count": 90,
      "outputs": []
    },
    {
      "cell_type": "code",
      "metadata": {
        "id": "HVU0y3xJUfDv",
        "colab": {
          "base_uri": "https://localhost:8080/"
        },
        "outputId": "cc20fffc-2007-4a4a-8ef1-7ab2f7839777"
      },
      "source": [
        "# Summarise by catalogue series\r\n",
        "series_summary = {}\r\n",
        "for identifier in Q:\r\n",
        "    entry = ATOZ.lookup(identifier)\r\n",
        "    series = entry[ATOZ.fields['CATREF']].split(\" \")[0]\r\n",
        "    if series in series_summary:\r\n",
        "        series_summary[series] += 1\r\n",
        "    else:\r\n",
        "        series_summary[series] = 1\r\n",
        "\r\n",
        "sorted_series = sorted([(k,v) for k,v in series_summary.items()], key=itemgetter(1), reverse=True)\r\n",
        "print(sorted_series)\r\n",
        "# These codes will only be meaningful with a catalogue lookup"
      ],
      "execution_count": 91,
      "outputs": [
        {
          "output_type": "stream",
          "text": [
            "[('PF', 23), ('FCO', 3), ('N', 2), ('DFT', 1), ('JA', 1), ('DEFE', 1)]\n"
          ],
          "name": "stdout"
        }
      ]
    },
    {
      "cell_type": "code",
      "metadata": {
        "id": "15obU7lAkcXh"
      },
      "source": [
        "# Now what?\r\n",
        "\r\n",
        "# "
      ],
      "execution_count": null,
      "outputs": []
    }
  ]
}