{
  "nbformat": 4,
  "nbformat_minor": 0,
  "metadata": {
    "colab": {
      "name": "UKGWA London 2012.ipynb",
      "provenance": [],
      "authorship_tag": "ABX9TyPvGGJr/dNAXVjwZTEGYlyQ",
      "include_colab_link": true
    },
    "kernelspec": {
      "name": "python3",
      "display_name": "Python 3"
    }
  },
  "cells": [
    {
      "cell_type": "markdown",
      "metadata": {
        "id": "view-in-github",
        "colab_type": "text"
      },
      "source": [
        "<a href=\"https://colab.research.google.com/github/mark-bell-tna/ComputationalAccess/blob/main/UKGWA_London_2012.ipynb\" target=\"_parent\"><img src=\"https://colab.research.google.com/assets/colab-badge.svg\" alt=\"Open In Colab\"/></a>"
      ]
    },
    {
      "cell_type": "code",
      "metadata": {
        "id": "SMfHwmSC5tsS"
      },
      "source": [
        "import requests;      #used for connecting to the API\r\n",
        "import sys\r\n",
        "from time import sleep\r\n",
        "from math import log\r\n",
        "import os\r\n",
        "from urllib.request import urlopen\r\n",
        "import re\r\n",
        "from operator import itemgetter\r\n",
        "from matplotlib import pyplot as plt\r\n",
        "import time\r\n",
        "import timeit"
      ],
      "execution_count": 3,
      "outputs": []
    },
    {
      "cell_type": "code",
      "metadata": {
        "id": "46xjvP6Cacoa"
      },
      "source": [
        "if 'google.colab' in str(get_ipython()):\r\n",
        "    environment = \"Colab\"\r\n",
        "elif 'BINDER_SERVICE_HOST' in os.environ:\r\n",
        "    environment = \"Binder\"\r\n",
        "else:\r\n",
        "    environment = \"Unknown\""
      ],
      "execution_count": 4,
      "outputs": []
    },
    {
      "cell_type": "code",
      "metadata": {
        "id": "OcI59YgPNhdW"
      },
      "source": [
        "# For development purposes only when making changes in Github\r\n",
        "import shutil\r\n",
        "shutil.rmtree('ComputationalAccess')"
      ],
      "execution_count": null,
      "outputs": []
    },
    {
      "cell_type": "code",
      "metadata": {
        "id": "rhmfLGPrIGXw",
        "colab": {
          "base_uri": "https://localhost:8080/"
        },
        "outputId": "d75ac0d1-7d60-437f-f8fa-521cb466603e"
      },
      "source": [
        "if environment == \"Colab\":\r\n",
        "    !git clone https://github.com/mark-bell-tna/ComputationalAccess.git\r\n",
        "    sys.path.insert(0, 'ComputationalAccess')\r\n",
        "    github_data = \"ComputationalAccess/Data/\"\r\n",
        "    os.listdir(github_data)\r\n",
        "    # Connect to gdrive\r\n",
        "    from google.colab import drive\r\n",
        "    drive.mount('/content/gdrive')\r\n",
        "    data_folder = \"/content/gdrive/My Drive/Data/\"\r\n",
        "else:\r\n",
        "    github_data = \"Data/\"\r\n",
        "    data_folder = \"Data/\"\r\n"
      ],
      "execution_count": 5,
      "outputs": [
        {
          "output_type": "stream",
          "text": [
            "Cloning into 'ComputationalAccess'...\n",
            "remote: Enumerating objects: 31, done.\u001b[K\n",
            "remote: Counting objects: 100% (31/31), done.\u001b[K\n",
            "remote: Compressing objects: 100% (31/31), done.\u001b[K\n",
            "remote: Total 143 (delta 14), reused 0 (delta 0), pack-reused 112\u001b[K\n",
            "Receiving objects: 100% (143/143), 230.02 KiB | 6.39 MiB/s, done.\n",
            "Resolving deltas: 100% (72/72), done.\n",
            "Mounted at /content/gdrive\n"
          ],
          "name": "stdout"
        }
      ]
    },
    {
      "cell_type": "code",
      "metadata": {
        "id": "8mJg0fKK51sQ"
      },
      "source": [
        "from ukgwa_index import UKGWAIndex\r\n",
        "from text_utils import SuffixTree, text_to_parts\r\n",
        "from web_structure import UKGWAStructure\r\n",
        "from ukgwa_query import QueryEngine\r\n",
        "from cdx_indexer import TemporalIndexer\r\n",
        "from ukgwa_textindex import UKGWATextIndex\r\n",
        "from ukgwa_linkcrawler import Crawl"
      ],
      "execution_count": 6,
      "outputs": []
    },
    {
      "cell_type": "code",
      "metadata": {
        "colab": {
          "base_uri": "https://localhost:8080/"
        },
        "id": "AKgHts7HJPkN",
        "outputId": "10a1a4e1-adb1-41cf-ee37-5123b2356f06"
      },
      "source": [
        "# Get entries from AtoZ index\r\n",
        "\r\n",
        "refresh = False\r\n",
        "\r\n",
        "print(\"Getting index...\")\r\n",
        "ATOZ = UKGWAIndex()\r\n",
        "if refresh:\r\n",
        "    ATOZ.indexfromweb()  # Read the A to Z index from the UKGWA website\r\n",
        "else:\r\n",
        "    ATOZ.indexfromfile(data_folder + \"atoz_index.txt\")  # Read from a saved file\r\n",
        "\r\n",
        "print(\"Loaded index...\")"
      ],
      "execution_count": 7,
      "outputs": [
        {
          "output_type": "stream",
          "text": [
            "Getting index...\n",
            "Loaded index...\n"
          ],
          "name": "stdout"
        }
      ]
    },
    {
      "cell_type": "code",
      "metadata": {
        "id": "lu7Oi7OoKBBe"
      },
      "source": [
        "# Updated the entries with Discovery catalogue references\r\n",
        "\r\n",
        "ATOZ.discoveryfromfile(github_data + \"discovery_ukgwa_links.txt\")"
      ],
      "execution_count": null,
      "outputs": []
    },
    {
      "cell_type": "code",
      "metadata": {
        "id": "DIqZwJBnKa7Q",
        "colab": {
          "base_uri": "https://localhost:8080/"
        },
        "outputId": "4cc9fb47-2650-4bc6-bd53-ff1a125d0bc9"
      },
      "source": [
        "# Test the last command worked - should see a catalogue reference in last position of list\r\n",
        "# If it says 'N' then try a few other numbers.\r\n",
        "ATOZ.index['UKGWA.100']"
      ],
      "execution_count": null,
      "outputs": [
        {
          "output_type": "execute_result",
          "data": {
            "text/plain": [
              "['UKGWA.100',\n",
              " 'Advisory Panel on Country Information (APCI) (http://apci.homeoffice.gov.uk)',\n",
              " '*',\n",
              " 'http://apci.homeoffice.gov.uk/',\n",
              " 'HO 437']"
            ]
          },
          "metadata": {
            "tags": []
          },
          "execution_count": 8
        }
      ]
    },
    {
      "cell_type": "code",
      "metadata": {
        "id": "kx8U4145j6cA"
      },
      "source": [
        "# Only run this if you want to save the results of \"indexfromweb\" for next time\r\n",
        "ATOZ.indextofile(data_folder + \"atoz_index.txt\")"
      ],
      "execution_count": null,
      "outputs": []
    },
    {
      "cell_type": "code",
      "metadata": {
        "colab": {
          "base_uri": "https://localhost:8080/"
        },
        "id": "wLpB8Vig6A_x",
        "outputId": "4ab533cf-10a5-4ad9-dc13-9ca1eb88e820"
      },
      "source": [
        "# Index the text of the index to make it searchable and to get common ngrams\r\n",
        "\r\n",
        "TI = UKGWATextIndex(stop_words = set(['on','for','and','of','&','the','in','to']))\r\n",
        "\r\n",
        "print(\"Loading text to index...\")\r\n",
        "for key in ATOZ:\r\n",
        "    entry_type = ATOZ.get_field(key, 'CAT')\r\n",
        "    if entry_type != '*':  # Archived web sites\r\n",
        "        continue    # skip twitter, youtube, etc.\r\n",
        "    w_p = text_to_parts(ATOZ.get_field(key, 'TEXT'))\r\n",
        "    i = 0\r\n",
        "    for p in w_p:\r\n",
        "        if p[3] == \"web\":\r\n",
        "            continue\r\n",
        "        i += 1\r\n",
        "        TI.add_tokens(p[0].split(\" \"), key + \".\" + str(i))\r\n",
        "\r\n",
        "print(\"Loaded\")\r\n"
      ],
      "execution_count": 8,
      "outputs": [
        {
          "output_type": "stream",
          "text": [
            "Loading text to index...\n",
            "Loaded\n"
          ],
          "name": "stdout"
        }
      ]
    },
    {
      "cell_type": "code",
      "metadata": {
        "colab": {
          "base_uri": "https://localhost:8080/"
        },
        "id": "NoHUnzPSJeSR",
        "outputId": "0c8010ee-e8d3-4b73-90f8-806a4857d9cf"
      },
      "source": [
        "# Print examples of top N common ngrams\r\n",
        "\r\n",
        "print(\"Getting phrases...\")\r\n",
        "ph = TI.get_phrases(min_count=30, min_length=2)\r\n",
        "ph.sort(key=itemgetter(3), reverse=True)\r\n",
        "\r\n",
        "# Change N to view more phrases\r\n",
        "N = 5\r\n",
        "topNindex = {}\r\n",
        "for row in ph[0:N]:\r\n",
        "    print(row)"
      ],
      "execution_count": 9,
      "outputs": [
        {
          "output_type": "stream",
          "text": [
            "Getting phrases...\n",
            "[['National', 'Health', 'Service'], 3, 150, 150]\n",
            "[['GOV.UK', 'Blog'], 2, 144, 144]\n",
            "[['Advisory', 'Committee'], 2, 59, 59]\n",
            "[['National', 'Institute', 'Health'], 3, 47, 47]\n",
            "[['Department', 'Health'], 2, 44, 44]\n"
          ],
          "name": "stdout"
        }
      ]
    },
    {
      "cell_type": "code",
      "metadata": {
        "id": "WszdZR08Mxb6"
      },
      "source": [
        "WS = UKGWAStructure()\r\n",
        "\r\n",
        "for identifier in ATOZ:\r\n",
        "    url = ATOZ.get_field(identifier, 'URL')\r\n",
        "    WS.add_entry(url, identifier)"
      ],
      "execution_count": 10,
      "outputs": []
    },
    {
      "cell_type": "code",
      "metadata": {
        "id": "tFeR2EYFcgvU"
      },
      "source": [
        "Q = QueryEngine()\r\n",
        "Q.add_view('TextIdx', TI)\r\n",
        "Q.add_view('Domain', WS)\r\n",
        "Q.add_view('AtoZ', ATOZ)"
      ],
      "execution_count": 11,
      "outputs": []
    },
    {
      "cell_type": "code",
      "metadata": {
        "colab": {
          "base_uri": "https://localhost:8080/"
        },
        "id": "vjCkFojANe0w",
        "outputId": "c5170fef-1487-4c8c-b75a-88ed990ca498"
      },
      "source": [
        "search_terms = ['Olympic Games','London 2012']\r\n",
        "search_terms = [s.split(' ') for s in search_terms]\r\n",
        "search_terms"
      ],
      "execution_count": 12,
      "outputs": [
        {
          "output_type": "execute_result",
          "data": {
            "text/plain": [
              "[['Olympic', 'Games'], ['London', '2012']]"
            ]
          },
          "metadata": {
            "tags": []
          },
          "execution_count": 12
        }
      ]
    },
    {
      "cell_type": "code",
      "metadata": {
        "colab": {
          "base_uri": "https://localhost:8080/"
        },
        "id": "0Z2sUXqpNtXP",
        "outputId": "93bb09a9-fdc2-46c4-9b8d-07232989eca6"
      },
      "source": [
        "match_ids = [x for x in Q.filter_view('TextIdx', 'NGRAM', '=', *search_terms)]\r\n",
        "print(\"Matched:\",len(match_ids),'Ids')"
      ],
      "execution_count": 13,
      "outputs": [
        {
          "output_type": "stream",
          "text": [
            "(['Olympic', 'Games'], ['London', '2012'])\n",
            "Matched: 33 Ids\n"
          ],
          "name": "stdout"
        }
      ]
    },
    {
      "cell_type": "code",
      "metadata": {
        "id": "c_BBWLJdPJe8"
      },
      "source": [
        "# Set query to include matching ids\r\n",
        "_ = [Q.include(x[:-2]) for x in match_ids]"
      ],
      "execution_count": 14,
      "outputs": []
    },
    {
      "cell_type": "code",
      "metadata": {
        "colab": {
          "base_uri": "https://localhost:8080/"
        },
        "id": "AL4NgIjPPwUI",
        "outputId": "31668814-a510-4e04-9ab2-373346d17be6"
      },
      "source": [
        "# Summarise included ids by web domain\r\n",
        "domain_summary = {}\r\n",
        "for identifier in Q:\r\n",
        "    url_parts = WS.index[identifier]\r\n",
        "    dt = WS.domaintotree(url_parts[WS.fields['NETLOC']], strip_www=True)\r\n",
        "    dom_name = \".\".join(reversed(dt[:2]))\r\n",
        "    if dom_name in domain_summary:\r\n",
        "        domain_summary[dom_name] += 1\r\n",
        "    else:\r\n",
        "        domain_summary[dom_name] = 1\r\n",
        "\r\n",
        "sorted_domains = sorted([(k,v) for k,v in domain_summary.items()], key=itemgetter(1), reverse=True)\r\n",
        "print(sorted_domains)"
      ],
      "execution_count": 15,
      "outputs": [
        {
          "output_type": "stream",
          "text": [
            "[('london2012.com', 18), ('gov.uk', 6), ('visitlondon.com', 1), ('mylondon2012.com', 1), ('org.uk', 1), ('mod.uk', 1), ('nhs.uk', 1), ('cslondon.org', 1), ('tumblr.com', 1)]\n"
          ],
          "name": "stdout"
        }
      ]
    },
    {
      "cell_type": "code",
      "metadata": {
        "colab": {
          "base_uri": "https://localhost:8080/",
          "height": 373
        },
        "id": "NlcrH6JKRQ8U",
        "outputId": "ef28036e-38f3-414c-a21a-9fd4b9bad3d8"
      },
      "source": [
        "# Bar chart of the figures derived above\r\n",
        "x,y = zip(*sorted_domains)\r\n",
        "plt.bar(x,y)\r\n",
        "plt.xticks(rotation='vertical')"
      ],
      "execution_count": 17,
      "outputs": [
        {
          "output_type": "execute_result",
          "data": {
            "text/plain": [
              "([0, 1, 2, 3, 4, 5, 6, 7, 8], <a list of 9 Text major ticklabel objects>)"
            ]
          },
          "metadata": {
            "tags": []
          },
          "execution_count": 17
        },
        {
          "output_type": "display_data",
          "data": {
            "image/png": "[encoded data removed]",
            "text/plain": [
              "<Figure size 432x288 with 1 Axes>"
            ]
          },
          "metadata": {
            "tags": [],
            "needs_background": "light"
          }
        }
      ]
    },
    {
      "cell_type": "code",
      "metadata": {
        "id": "EYEI-KagUW8Z"
      },
      "source": [
        "T = TemporalIndexer()\r\n",
        "Q.add_view(\"Temp\", T)"
      ],
      "execution_count": 18,
      "outputs": []
    },
    {
      "cell_type": "code",
      "metadata": {
        "id": "ysyv4fJkT6pd",
        "colab": {
          "base_uri": "https://localhost:8080/"
        },
        "outputId": "9bf31b3c-8172-4f09-b3cc-d8ca989293b8"
      },
      "source": [
        "# This takes quite a while to run (approx 12 seconds for London 2012 example which is only 33 pages to lookup)\r\n",
        "# Get snapshot data from the CDX API\r\n",
        "print(\"Started\",time.asctime())\r\n",
        "for identifier in Q:\r\n",
        "    T.add_entry(ATOZ.get_field(identifier, 'URL'), identifier)\r\n",
        "print(\"Finished\", time.asctime())"
      ],
      "execution_count": 20,
      "outputs": [
        {
          "output_type": "stream",
          "text": [
            "Started Fri Feb  5 12:06:14 2021\n",
            "Finished Fri Feb  5 12:06:26 2021\n"
          ],
          "name": "stdout"
        }
      ]
    },
    {
      "cell_type": "code",
      "metadata": {
        "colab": {
          "base_uri": "https://localhost:8080/"
        },
        "id": "UQVXxn2NSnLA",
        "outputId": "f0b235b1-2901-4f2e-cbbc-33dd1d8c0df4"
      },
      "source": [
        "# View a sample temporal record\r\n",
        "print(\"Field names:\",sorted([[x[1],x[0]] for x in T.fields.items()], key=itemgetter(0)))\r\n",
        "for t in T:\r\n",
        "  print(T.lookup(t))\r\n",
        "  break"
      ],
      "execution_count": 21,
      "outputs": [
        {
          "output_type": "stream",
          "text": [
            "Field names: [[0, 'MIN'], [1, 'MAX'], [2, 'COUNT'], [3, 'CDX']]\n",
            "[20100205015840, 20130228082212, 27, <cdx_reader.CDXReader object at 0x7f99e33fe7f0>]\n"
          ],
          "name": "stdout"
        }
      ]
    },
    {
      "cell_type": "code",
      "metadata": {
        "colab": {
          "base_uri": "https://localhost:8080/",
          "height": 498
        },
        "id": "jBX8QHsZXq22",
        "outputId": "cc938663-60c6-4857-aaaf-b7a906ee57dc"
      },
      "source": [
        "# Draw chart of earliest and latest snapshots by site\r\n",
        "# Red for earliest, blue for latest\r\n",
        "first_last_snapshots = [[idx] + T.lookup(idx, ['MIN','MAX']) for idx in Q]\r\n",
        "first_last_snapshots = [x for x in first_last_snapshots if x[1] != 90000000000000]  # Hide this in Temporal class. Odd bug in snapshot crawling code causes them\r\n",
        "first_last_snapshots = [x for x in first_last_snapshots if x[2] != 0]\r\n",
        "first_last_snapshots.sort(key=itemgetter(1)) # Sort by date of first snapshot\r\n",
        "x_labels,y,z = zip(*first_last_snapshots)\r\n",
        "x = [n for n in range(len(x_labels))]\r\n",
        "d = [h for h in zip(y,z)]\r\n",
        "y = [i for (i,j) in d]\r\n",
        "z = [j for (i,j) in d]\r\n",
        "plt.figure(figsize=(10,8))\r\n",
        "plt.plot(y, x, 'rs', markersize = 4)\r\n",
        "plt.plot(z, x, 'bo', markersize = 4)\r\n",
        "plt.plot(([i for (i,j) in d], [j for (i,j) in d]),(x,x),c='black')\r\n",
        "plt.xticks(rotation=45, ticks=[int(str(y) + '0101000000') for y in range(2005,2022)],\r\n",
        "           labels = [str(y) for y in range(2005,2022)])\r\n",
        "plt.yticks(ticks=x,labels = x_labels,fontsize=8)\r\n",
        "plt.show()"
      ],
      "execution_count": 56,
      "outputs": [
        {
          "output_type": "display_data",
          "data": {
            "image/png": "[encoded data removed]",
            "text/plain": [
              "<Figure size 720x576 with 1 Axes>"
            ]
          },
          "metadata": {
            "tags": [],
            "needs_background": "light"
          }
        }
      ]
    },
    {
      "cell_type": "code",
      "metadata": {
        "colab": {
          "base_uri": "https://localhost:8080/",
          "height": 526
        },
        "id": "urHdzTiPkrHf",
        "outputId": "6d51bfc2-2426-4b8e-fb4b-f284326aca12"
      },
      "source": [
        "# Same data plotted by snapshot count\r\n",
        "snapshot_counts = [[idx] + T.lookup(idx, ['COUNT']) for idx in Q]\r\n",
        "x,y = zip(*snapshot_counts)\r\n",
        "plt.figure(figsize=(10,8))\r\n",
        "plt.bar(x,y)\r\n",
        "plt.xticks(rotation='vertical')\r\n",
        "plt.xticks(fontsize=8)\r\n",
        "plt.show()"
      ],
      "execution_count": 58,
      "outputs": [
        {
          "output_type": "display_data",
          "data": {
            "image/png": "[encoded data removed]",
            "text/plain": [
              "<Figure size 720x576 with 1 Axes>"
            ]
          },
          "metadata": {
            "tags": [],
            "needs_background": "light"
          }
        }
      ]
    },
    {
      "cell_type": "code",
      "metadata": {
        "colab": {
          "base_uri": "https://localhost:8080/"
        },
        "id": "3_JJXYGwlJRx",
        "outputId": "0a3c6759-39db-4f9b-9396-78f0c0fdeca6"
      },
      "source": [
        "# What are the top N results?\r\n",
        "N = 20\r\n",
        "snapshot_counts.sort(key=itemgetter(1),reverse=True)\r\n",
        "for idx in snapshot_counts[0:N]:\r\n",
        "    print(ATOZ.lookup(idx[0]), \"Snapshots:\",idx[1])"
      ],
      "execution_count": 201,
      "outputs": [
        {
          "output_type": "stream",
          "text": [
            "['UKGWA.3084', 'London 2012 – Olympic Games', '*', 'http://www.london2012.com/', 'PF 15'] Snapshots: 190\n",
            "['UKGWA.799', 'Commission for a Sustainable London 2012', '*', 'http://www.cslondon.org/', 'PF 73'] Snapshots: 79\n",
            "['UKGWA.3089', 'London 2012 – Shop', '*', 'http://shop.london2012.com/', 'PF 161'] Snapshots: 72\n",
            "['UKGWA.3082', 'London 2012 – Mascots', '*', 'https://mascot-games.london2012.com/', 'PF 142'] Snapshots: 56\n",
            "['UKGWA.3076', 'London 2012 – Inspire Programme', '*', 'http://www.london2012.com/get-involved/inspire-programme/index.php', 'PF 131'] Snapshots: 49\n",
            "['UKGWA.3090', 'London 2012 – Spectator journey planner', '*', 'http://travel.london2012.com/SJPWeb/Pages/JourneyPlannerInput.aspx', 'PF 159'] Snapshots: 48\n",
            "['UKGWA.3071', 'London 2012 – Festival', '*', 'http://festival.london2012.com/', 'PF 162'] Snapshots: 44\n",
            "['UKGWA.5733', '100 Days to go to London 2012', '*', 'http://100daystogolondon2012.tumblr.com/', 'FCO 146'] Snapshots: 44\n",
            "['UKGWA.3078', 'London 2012 – Learning Legacy (http://learninglegacy.independent.gov.uk/)', '*', 'http://learninglegacy.independent.gov.uk/', 'PF 141'] Snapshots: 43\n",
            "['UKGWA.3085', 'London 2012 – Olympic Games and Paralympic Games Tickets', '*', 'http://www.tickets.london2012.com/homepage', 'PF 127'] Snapshots: 40\n",
            "['UKGWA.3088', 'London 2012 – Public Access at The Olympic Delivery Authority', '*', 'http://planning.london2012.com/publicaccess/', 'PF 128'] Snapshots: 40\n",
            "['UKGWA.2322', 'Health and Safety Executive (HSE) – The London 2012 Olympic and Paralympic Games: The Health and Safety Learning Legacy', '*', 'http://www.hse.gov.uk/aboutus/london-2012-games/index.htm', 'N'] Snapshots: 36\n",
            "['UKGWA.3077', 'London 2012 – Join in', '*', 'http://www.london2012.com/join-in/', 'PF 158'] Snapshots: 33\n",
            "['UKGWA.3086', 'London 2012 – Olympics Hospitality: Prestige Ticketing', '*', 'http://prestigeticketing.london2012.com/', 'PF 126'] Snapshots: 31\n",
            "['UKGWA.3079', 'London 2012 – Learning Legacy (http://learninglegacy.london2012.com/)', '*', 'http://learninglegacy.london2012.com/', 'PF 141'] Snapshots: 28\n",
            "['UKGWA.3087', 'London 2012 – Paralympic Games', '*', 'http://www.london2012.com/paralympics', 'N'] Snapshots: 28\n",
            "['UKGWA.3074', 'London 2012 – Going for Gold along with the Get Set London Roadshow (http://www.london2012.com/blog/2008/03/going-for-gold-along-with-the-get-set-london-roadshow.php)', '*', 'http://www.london2012.com/blog/2008/03/going-for-gold-along-with-the-get-set-london-roadshow.php', 'PF 74'] Snapshots: 27\n",
            "['UKGWA.3093', 'London 2012 – Young Leaders Programme', '*', 'http://youngleaders.london2012.com/young-leaders/', 'PF 163'] Snapshots: 23\n",
            "['UKGWA.1956', 'Foreign and Commonwealth Office (FCO) – London 2012 Olympics', '*', 'http://www.fco.gov.uk/en/global-issues/london-2012/', 'FCO 142'] Snapshots: 23\n",
            "['UKGWA.1193', 'Department for Culture, Media and Sport (DCMS) – Consultation on the regulations on advertising activity and trading around London 2012', '*', 'http://www.culture.gov.uk/consultations/7759.aspx', 'PF 129'] Snapshots: 19\n"
          ],
          "name": "stdout"
        }
      ]
    },
    {
      "cell_type": "code",
      "metadata": {
        "id": "R-FEsWe8YgJZ",
        "outputId": "94cbb740-61c2-47e8-d437-75ef2f26c51f",
        "colab": {
          "base_uri": "https://localhost:8080/",
          "height": 515
        }
      },
      "source": [
        "import matplotlib.dates as mdates\r\n",
        "import numpy as np\r\n",
        "\r\n",
        "month_summary = {}\r\n",
        "plt.figure(figsize=(10,8))\r\n",
        "for idx in snapshot_counts[0:N]:\r\n",
        "    snapshots = T.get_field(idx[0], 'CDX')\r\n",
        "    for c in snapshots:\r\n",
        "        iso_month = str(c)[0:4] + '-' + str(c)[4:6]\r\n",
        "        month = np.datetime64(iso_month, 'M')\r\n",
        "        if month in month_summary:\r\n",
        "          month_summary[month] += 1\r\n",
        "        else:\r\n",
        "          month_summary[month] = 1\r\n",
        "\r\n",
        "summary_data = sorted([(x,y) for x,y in month_summary.items()], key=itemgetter(0))\r\n",
        "\r\n",
        "years = mdates.YearLocator()   # every year\r\n",
        "months = mdates.MonthLocator()  # every month\r\n",
        "years_fmt = mdates.DateFormatter('%Y')\r\n",
        "\r\n",
        "import seaborn as sns\r\n",
        "\r\n",
        "fig, ax = plt.subplots(figsize=(10,8))\r\n",
        "ax.xaxis.set_major_locator(years)\r\n",
        "ax.xaxis.set_minor_locator(months)\r\n",
        "ax.xaxis.set_major_formatter(years_fmt)\r\n",
        "ax.plot([x for x,y in summary_data], [y for x,y in summary_data], color='b')\r\n",
        "plt.xticks(rotation='vertical')\r\n",
        "ax.grid(True)\r\n",
        "plt.show(ax)\r\n"
      ],
      "execution_count": 202,
      "outputs": [
        {
          "output_type": "display_data",
          "data": {
            "text/plain": [
              "<Figure size 720x576 with 0 Axes>"
            ]
          },
          "metadata": {
            "tags": []
          }
        },
        {
          "output_type": "display_data",
          "data": {
            "image/png": "[encoded data removed]",
            "text/plain": [
              "<Figure size 720x576 with 1 Axes>"
            ]
          },
          "metadata": {
            "tags": [],
            "needs_background": "light"
          }
        }
      ]
    },
    {
      "cell_type": "code",
      "metadata": {
        "id": "aw9wAb0PfLWF",
        "colab": {
          "base_uri": "https://localhost:8080/"
        },
        "outputId": "ebfe7715-aa45-47e1-b652-e640a9560ad8"
      },
      "source": [
        "# Get entries where first snapshot is less than 1/1/2010\r\n",
        "t_filt = Q.filter_view(\"Temp\", 'MIN', '<', 20100101000000)\r\n",
        "for t in t_filt:\r\n",
        "    print(t, ATOZ.lookup(t))"
      ],
      "execution_count": null,
      "outputs": [
        {
          "output_type": "stream",
          "text": [
            "UKGWA.3084 ['UKGWA.3084', 'London 2012 – Olympic Games', '*', 'http://www.london2012.com/', 'PF 15']\n",
            "UKGWA.3075 ['UKGWA.3075', 'London 2012 – Going for Gold along with the Get Set London Roadshow Blog (http://www.london2012.com/blog/2008/03/20/going-for-gold-along-with-the-get-set-london-roadshow.php)', '*', 'http://www.london2012.com/blog/2008/03/20/going-for-gold-along-with-the-get-set-london-roadshow.php', 'PF 74']\n",
            "UKGWA.3076 ['UKGWA.3076', 'London 2012 – Inspire Programme', '*', 'http://www.london2012.com/get-involved/inspire-programme/index.php', 'PF 131']\n",
            "UKGWA.799 ['UKGWA.799', 'Commission for a Sustainable London 2012', '*', 'http://www.cslondon.org/', 'PF 73']\n",
            "UKGWA.3088 ['UKGWA.3088', 'London 2012 – Public Access at The Olympic Delivery Authority', '*', 'http://planning.london2012.com/publicaccess/', 'PF 128']\n",
            "UKGWA.3529 ['UKGWA.3529', 'National Health Service (NHS) – Fit for London 2012', '*', 'http://www.fitforlondon2012.nhs.uk/', 'JA 74']\n"
          ],
          "name": "stdout"
        }
      ]
    },
    {
      "cell_type": "code",
      "metadata": {
        "colab": {
          "base_uri": "https://localhost:8080/"
        },
        "id": "hLI83QrqWZGl",
        "outputId": "05f29c47-57c0-4af2-d5d0-e301347693b3"
      },
      "source": [
        "# Get entries where first snapshot is after the Games (roughly)\r\n",
        "t_filt = Q.filter_view(\"Temp\", 'MIN', '>', 20120901000000)\r\n",
        "for t in t_filt:\r\n",
        "    print(t, ATOZ.lookup(t))"
      ],
      "execution_count": null,
      "outputs": [
        {
          "output_type": "stream",
          "text": [
            "UKGWA.3073 ['UKGWA.3073', 'London 2012 – Get Set', '*', 'http://original-getset.london2012.com/en/home', 'PF 172']\n",
            "UKGWA.1957 ['UKGWA.1957', 'Foreign and Commonwealth Office (FCO) – Pope Benedict sends message of support to London Olympic Games', '*', 'http://ukinholysee.fco.gov.uk/en/news/?view=News&id=791576182', 'FCO 144']\n",
            "UKGWA.3078 ['UKGWA.3078', 'London 2012 – Learning Legacy (http://learninglegacy.independent.gov.uk/)', '*', 'http://learninglegacy.independent.gov.uk/', 'PF 141']\n"
          ],
          "name": "stdout"
        }
      ]
    },
    {
      "cell_type": "code",
      "metadata": {
        "colab": {
          "base_uri": "https://localhost:8080/"
        },
        "id": "n12suFuTfO-Z",
        "outputId": "a52413ae-a286-451d-aa04-e7f33b3e4274"
      },
      "source": [
        "T.lookup('UKGWA.1957')"
      ],
      "execution_count": null,
      "outputs": [
        {
          "output_type": "execute_result",
          "data": {
            "text/plain": [
              "[90000000000000, 0, 0, <cdx_reader.CDXReader at 0x7f256a4e6198>]"
            ]
          },
          "metadata": {
            "tags": []
          },
          "execution_count": 87
        }
      ]
    },
    {
      "cell_type": "code",
      "metadata": {
        "colab": {
          "base_uri": "https://localhost:8080/"
        },
        "id": "XAS347EWdwqB",
        "outputId": "f075f109-f957-40e5-ea82-1822632a3ef5"
      },
      "source": [
        "# Get entries where last snapshot is before the Games (roughly)\r\n",
        "t_filt = Q.filter_view(\"Temp\", 'MAX', '<', 20120726000000)\r\n",
        "for t in t_filt:\r\n",
        "    print(t, ATOZ.lookup(t))"
      ],
      "execution_count": null,
      "outputs": [
        {
          "output_type": "stream",
          "text": [
            "UKGWA.3075 ['UKGWA.3075', 'London 2012 – Going for Gold along with the Get Set London Roadshow Blog (http://www.london2012.com/blog/2008/03/20/going-for-gold-along-with-the-get-set-london-roadshow.php)', '*', 'http://www.london2012.com/blog/2008/03/20/going-for-gold-along-with-the-get-set-london-roadshow.php', 'PF 74']\n",
            "UKGWA.3529 ['UKGWA.3529', 'National Health Service (NHS) – Fit for London 2012', '*', 'http://www.fitforlondon2012.nhs.uk/', 'JA 74']\n",
            "UKGWA.1957 ['UKGWA.1957', 'Foreign and Commonwealth Office (FCO) – Pope Benedict sends message of support to London Olympic Games', '*', 'http://ukinholysee.fco.gov.uk/en/news/?view=News&id=791576182', 'FCO 144']\n"
          ],
          "name": "stdout"
        }
      ]
    },
    {
      "cell_type": "code",
      "metadata": {
        "colab": {
          "base_uri": "https://localhost:8080/"
        },
        "id": "9DADfn2CqLJc",
        "outputId": "00beb271-b69d-45d1-eca5-f8d3407ab0e3"
      },
      "source": [
        "# Get entries where latest snapshot is later than 2017\r\n",
        "t_filt = Q.filter_view(\"Temp\", 'MAX', '>', 20171231235959)\r\n",
        "for t in t_filt:\r\n",
        "    print(t, ATOZ.lookup(t))"
      ],
      "execution_count": null,
      "outputs": [
        {
          "output_type": "stream",
          "text": [
            "UKGWA.3078 ['UKGWA.3078', 'London 2012 – Learning Legacy (http://learninglegacy.independent.gov.uk/)', '*', 'http://learninglegacy.independent.gov.uk/', 'PF 141']\n",
            "UKGWA.5733 ['UKGWA.5733', '100 Days to go to London 2012', '*', 'http://100daystogolondon2012.tumblr.com/', 'FCO 146']\n",
            "UKGWA.1193 ['UKGWA.1193', 'Department for Culture, Media and Sport (DCMS) – Consultation on the regulations on advertising activity and trading around London 2012', '*', 'http://www.culture.gov.uk/consultations/7759.aspx', 'PF 129']\n",
            "UKGWA.799 ['UKGWA.799', 'Commission for a Sustainable London 2012', '*', 'http://www.cslondon.org/', 'PF 73']\n",
            "UKGWA.2322 ['UKGWA.2322', 'Health and Safety Executive (HSE) – The London 2012 Olympic and Paralympic Games: The Health and Safety Learning Legacy', '*', 'http://www.hse.gov.uk/aboutus/london-2012-games/index.htm', 'N']\n"
          ],
          "name": "stdout"
        }
      ]
    },
    {
      "cell_type": "code",
      "metadata": {
        "id": "vc1u32QmXvdI"
      },
      "source": [
        "# Reset the query selection\r\n",
        "Q.clear()\r\n",
        "_ = [Q.include(x[:-2]) for x in match_ids]"
      ],
      "execution_count": null,
      "outputs": []
    },
    {
      "cell_type": "code",
      "metadata": {
        "id": "HVU0y3xJUfDv",
        "colab": {
          "base_uri": "https://localhost:8080/"
        },
        "outputId": "cc20fffc-2007-4a4a-8ef1-7ab2f7839777"
      },
      "source": [
        "# Summarise by catalogue series\r\n",
        "series_summary = {}\r\n",
        "for identifier in Q:\r\n",
        "    entry = ATOZ.lookup(identifier)\r\n",
        "    series = entry[ATOZ.fields['CATREF']].split(\" \")[0]\r\n",
        "    if series in series_summary:\r\n",
        "        series_summary[series] += 1\r\n",
        "    else:\r\n",
        "        series_summary[series] = 1\r\n",
        "\r\n",
        "sorted_series = sorted([(k,v) for k,v in series_summary.items()], key=itemgetter(1), reverse=True)\r\n",
        "print(sorted_series)\r\n",
        "# These codes will only be meaningful with a catalogue lookup"
      ],
      "execution_count": null,
      "outputs": [
        {
          "output_type": "stream",
          "text": [
            "[('PF', 23), ('FCO', 3), ('N', 2), ('DFT', 1), ('JA', 1), ('DEFE', 1)]\n"
          ],
          "name": "stdout"
        }
      ]
    },
    {
      "cell_type": "code",
      "metadata": {
        "id": "15obU7lAkcXh"
      },
      "source": [
        "# Now what?\r\n",
        "\r\n",
        "# Look at website change over time\r\n",
        "# Extract content\r\n",
        "# Topic model over time?\r\n",
        "# Network view\r\n",
        "\r\n",
        "# What is crawling HTML like through Colabs?"
      ],
      "execution_count": null,
      "outputs": []
    },
    {
      "cell_type": "code",
      "metadata": {
        "id": "qlklxwZGzM72"
      },
      "source": [
        "C = Crawl(ATOZ.get_field('UKGWA.3078','URL'), 'MB TNA Research')"
      ],
      "execution_count": null,
      "outputs": []
    },
    {
      "cell_type": "code",
      "metadata": {
        "colab": {
          "base_uri": "https://localhost:8080/"
        },
        "id": "AhI4qc1ftU-g",
        "outputId": "e726b098-a1f4-402d-c19c-eadbead469f3"
      },
      "source": [
        "C.links[0:5]"
      ],
      "execution_count": null,
      "outputs": [
        {
          "output_type": "execute_result",
          "data": {
            "text/plain": [
              "['learninglegacy.independent.gov.uk/index.php',\n",
              " 'learninglegacy.independent.gov.uk/index.php',\n",
              " 'learninglegacy.independent.gov.uk/index.php',\n",
              " 'learninglegacy.independent.gov.uk/index.php',\n",
              " 'learninglegacy.independent.gov.uk/index.php',\n",
              " 'learninglegacy.independent.gov.uk/index.php',\n",
              " 'learninglegacy.independent.gov.uk/index.php',\n",
              " 'learninglegacy.independent.gov.uk/index.php',\n",
              " 'learninglegacy.independent.gov.uk/about/',\n",
              " 'learninglegacy.independent.gov.uk/themes/',\n",
              " 'learninglegacy.independent.gov.uk/themes/',\n",
              " 'learninglegacy.independent.gov.uk/books/',\n",
              " 'learninglegacy.independent.gov.uk/events/',\n",
              " 'learninglegacy.independent.gov.uk/technical-overviews/',\n",
              " 'learninglegacy.independent.gov.uk/themes/archaeology/index.php',\n",
              " 'learninglegacy.independent.gov.uk/themes/archaeology/case-studies.php',\n",
              " 'learninglegacy.independent.gov.uk/themes/archaeology/micro-reports.php',\n",
              " 'learninglegacy.independent.gov.uk/themes/design-and-engineering-innovation/index.php',\n",
              " 'learninglegacy.independent.gov.uk/themes/design-and-engineering-innovation/case-studies.php',\n",
              " 'learninglegacy.independent.gov.uk/themes/design-and-engineering-innovation/micro-reports.php',\n",
              " 'learninglegacy.independent.gov.uk/themes/equality-and-inclusion/index.php',\n",
              " 'learninglegacy.independent.gov.uk/themes/equality-and-inclusion/case-studies.php',\n",
              " 'learninglegacy.independent.gov.uk/themes/equality-and-inclusion/micro-reports.php',\n",
              " 'learninglegacy.independent.gov.uk/themes/health-and-safety/index.php',\n",
              " 'learninglegacy.independent.gov.uk/themes/health-and-safety/case-studies.php',\n",
              " 'learninglegacy.independent.gov.uk/themes/health-and-safety/micro-reports.php',\n",
              " 'learninglegacy.independent.gov.uk/themes/health-and-safety/champion-products.php',\n",
              " 'learninglegacy.independent.gov.uk/themes/masterplanning-and-townplanning/index.php',\n",
              " 'learninglegacy.independent.gov.uk/themes/masterplanning-and-townplanning/case-studies.php',\n",
              " 'learninglegacy.independent.gov.uk/themes/masterplanning-and-townplanning/micro-reports.php',\n",
              " 'learninglegacy.independent.gov.uk/themes/masterplanning-and-townplanning/champion-products.php',\n",
              " 'learninglegacy.independent.gov.uk/themes/procurement/index.php',\n",
              " 'learninglegacy.independent.gov.uk/themes/procurement/case-studies.php',\n",
              " 'learninglegacy.independent.gov.uk/themes/procurement/micro-reports.php',\n",
              " 'learninglegacy.independent.gov.uk/themes/procurement/champion-products.php',\n",
              " 'learninglegacy.independent.gov.uk/themes/programme-organisation-and-project-management/index.php',\n",
              " 'learninglegacy.independent.gov.uk/themes/programme-organisation-and-project-management/case-studies.php',\n",
              " 'learninglegacy.independent.gov.uk/themes/programme-organisation-and-project-management/micro-reports.php',\n",
              " 'learninglegacy.independent.gov.uk/themes/programme-organisation-and-project-management/champion-products.php',\n",
              " 'learninglegacy.independent.gov.uk/themes/sustainability/index.php',\n",
              " 'learninglegacy.independent.gov.uk/themes/sustainability/case-studies.php',\n",
              " 'learninglegacy.independent.gov.uk/themes/sustainability/micro-reports.php',\n",
              " 'learninglegacy.independent.gov.uk/themes/sustainability/champion-products.php',\n",
              " 'learninglegacy.independent.gov.uk/themes/systems-and-technology/index.php',\n",
              " 'learninglegacy.independent.gov.uk/themes/systems-and-technology/case-studies.php',\n",
              " 'learninglegacy.independent.gov.uk/themes/systems-and-technology/micro-reports.php',\n",
              " 'learninglegacy.independent.gov.uk/themes/systems-and-technology/champion-products.php',\n",
              " 'learninglegacy.independent.gov.uk/themes/transport/index.php',\n",
              " 'learninglegacy.independent.gov.uk/themes/transport/case-studies.php',\n",
              " 'learninglegacy.independent.gov.uk/themes/transport/micro-reports.php',\n",
              " 'learninglegacy.independent.gov.uk/themes/transport/champion-products.php',\n",
              " 'learninglegacy.independent.gov.uk/about/index.php',\n",
              " 'learninglegacy.independent.gov.uk/themes/index.php',\n",
              " 'learninglegacy.independent.gov.uk/videos/index.php',\n",
              " 'learninglegacy.independent.gov.uk/themes/archaeology/index.php',\n",
              " 'learninglegacy.independent.gov.uk/themes/archaeology/index.php',\n",
              " 'learninglegacy.independent.gov.uk/themes/masterplanning-and-townplanning/index.php',\n",
              " 'learninglegacy.independent.gov.uk/themes/masterplanning-and-townplanning/index.php',\n",
              " 'learninglegacy.independent.gov.uk/themes/procurement/index.php',\n",
              " 'learninglegacy.independent.gov.uk/themes/procurement/index.php',\n",
              " 'learninglegacy.independent.gov.uk/themes/sustainability/index.php',\n",
              " 'learninglegacy.independent.gov.uk/themes/sustainability/index.php',\n",
              " 'learninglegacy.independent.gov.uk/themes/health-and-safety/index.php',\n",
              " 'learninglegacy.independent.gov.uk/themes/health-and-safety/index.php',\n",
              " 'learninglegacy.independent.gov.uk/themes/design-and-engineering-innovation/index.php',\n",
              " 'learninglegacy.independent.gov.uk/themes/design-and-engineering-innovation/index.php',\n",
              " 'learninglegacy.independent.gov.uk/themes/programme-organisation-and-project-management/index.php',\n",
              " 'learninglegacy.independent.gov.uk/themes/programme-organisation-and-project-management/index.php',\n",
              " 'learninglegacy.independent.gov.uk/themes/systems-and-technology/index.php',\n",
              " 'learninglegacy.independent.gov.uk/themes/systems-and-technology/index.php',\n",
              " 'learninglegacy.independent.gov.uk/themes/equality-and-inclusion/index.php',\n",
              " 'learninglegacy.independent.gov.uk/themes/equality-and-inclusion/index.php',\n",
              " 'learninglegacy.independent.gov.uk/themes/transport/index.php',\n",
              " 'learninglegacy.independent.gov.uk/themes/transport/index.php',\n",
              " 'www.btplc.com/',\n",
              " 'learninglegacy.independent.gov.uk/about/contact-us.php',\n",
              " 'learninglegacy.independent.gov.uk/about/privacy-policy.php',\n",
              " 'learninglegacy.independent.gov.uk/about/terms-of-use.php',\n",
              " 'learninglegacy.independent.gov.uk/about/freedom-of-information.php',\n",
              " 'learninglegacy.independent.gov.uk/about/copyright.php',\n",
              " 'learninglegacy.independent.gov.uk/about/site-map.php']"
            ]
          },
          "metadata": {
            "tags": []
          },
          "execution_count": 31
        }
      ]
    },
    {
      "cell_type": "code",
      "metadata": {
        "id": "WhqezKRlIQsl",
        "outputId": "9a401cc2-36b9-4132-97ec-9172a4553a8d",
        "colab": {
          "base_uri": "https://localhost:8080/",
          "height": 629
        }
      },
      "source": [
        "# Idea for visualising graph change over time\r\n",
        "# From: https://stackoverflow.com/questions/56577154/matplotlib-heatmap-of-complex-numbes-modulus-and-phase-as-hue-and-value\r\n",
        "def huevalueplot(cmplxarray):\r\n",
        "    # Creating the black cover layer\r\n",
        "\r\n",
        "    black = np.full((*cmplxarray.shape, 4), 0.)\r\n",
        "    black[:,:,-1] = np.abs(cmplxarray) / np.abs(cmplxarray).max()\r\n",
        "    black[:,:,-1] = 1 - black[:,:,-1]\r\n",
        "\r\n",
        "    # Actual plot\r\n",
        "\r\n",
        "    fig, ax = plt.subplots()\r\n",
        "    # Plotting phases using 'hsv' colormap (the 'hue' part)\r\n",
        "    ax.imshow(np.angle(cmplxarray), cmap='plasma')\r\n",
        "    # Plotting the modulus array as the 'value' part\r\n",
        "    ax.imshow(black)\r\n",
        "    ax.set_axis_off()\r\n",
        "\r\n",
        "\r\n",
        "\r\n",
        "size = 10\r\n",
        "step = 1/size\r\n",
        "results = np.zeros((size+1,size+1), dtype=complex)\r\n",
        "\r\n",
        "for i in range(size+1):\r\n",
        "    for j in range(size+1):\r\n",
        "        results[i,j] = (step*i) + ((step*j) * 1j)\r\n",
        "print(results)\r\n",
        "huevalueplot(results)"
      ],
      "execution_count": 243,
      "outputs": [
        {
          "output_type": "stream",
          "text": [
            "[[0. +0.j  0. +0.1j 0. +0.2j 0. +0.3j 0. +0.4j 0. +0.5j 0. +0.6j 0. +0.7j\n",
            "  0. +0.8j 0. +0.9j 0. +1.j ]\n",
            " [0.1+0.j  0.1+0.1j 0.1+0.2j 0.1+0.3j 0.1+0.4j 0.1+0.5j 0.1+0.6j 0.1+0.7j\n",
            "  0.1+0.8j 0.1+0.9j 0.1+1.j ]\n",
            " [0.2+0.j  0.2+0.1j 0.2+0.2j 0.2+0.3j 0.2+0.4j 0.2+0.5j 0.2+0.6j 0.2+0.7j\n",
            "  0.2+0.8j 0.2+0.9j 0.2+1.j ]\n",
            " [0.3+0.j  0.3+0.1j 0.3+0.2j 0.3+0.3j 0.3+0.4j 0.3+0.5j 0.3+0.6j 0.3+0.7j\n",
            "  0.3+0.8j 0.3+0.9j 0.3+1.j ]\n",
            " [0.4+0.j  0.4+0.1j 0.4+0.2j 0.4+0.3j 0.4+0.4j 0.4+0.5j 0.4+0.6j 0.4+0.7j\n",
            "  0.4+0.8j 0.4+0.9j 0.4+1.j ]\n",
            " [0.5+0.j  0.5+0.1j 0.5+0.2j 0.5+0.3j 0.5+0.4j 0.5+0.5j 0.5+0.6j 0.5+0.7j\n",
            "  0.5+0.8j 0.5+0.9j 0.5+1.j ]\n",
            " [0.6+0.j  0.6+0.1j 0.6+0.2j 0.6+0.3j 0.6+0.4j 0.6+0.5j 0.6+0.6j 0.6+0.7j\n",
            "  0.6+0.8j 0.6+0.9j 0.6+1.j ]\n",
            " [0.7+0.j  0.7+0.1j 0.7+0.2j 0.7+0.3j 0.7+0.4j 0.7+0.5j 0.7+0.6j 0.7+0.7j\n",
            "  0.7+0.8j 0.7+0.9j 0.7+1.j ]\n",
            " [0.8+0.j  0.8+0.1j 0.8+0.2j 0.8+0.3j 0.8+0.4j 0.8+0.5j 0.8+0.6j 0.8+0.7j\n",
            "  0.8+0.8j 0.8+0.9j 0.8+1.j ]\n",
            " [0.9+0.j  0.9+0.1j 0.9+0.2j 0.9+0.3j 0.9+0.4j 0.9+0.5j 0.9+0.6j 0.9+0.7j\n",
            "  0.9+0.8j 0.9+0.9j 0.9+1.j ]\n",
            " [1. +0.j  1. +0.1j 1. +0.2j 1. +0.3j 1. +0.4j 1. +0.5j 1. +0.6j 1. +0.7j\n",
            "  1. +0.8j 1. +0.9j 1. +1.j ]]\n"
          ],
          "name": "stdout"
        },
        {
          "output_type": "display_data",
          "data": {
            "image/png": "[encoded data removed]",
            "text/plain": [
              "<Figure size 432x288 with 1 Axes>"
            ]
          },
          "metadata": {
            "tags": [],
            "needs_background": "light"
          }
        }
      ]
    },
    {
      "cell_type": "code",
      "metadata": {
        "id": "sJDKws9le8wI",
        "outputId": "bc2b2084-293a-4aa9-c6e0-5a391e3f35c6",
        "colab": {
          "base_uri": "https://localhost:8080/",
          "height": 248
        }
      },
      "source": [
        "page_dates = [[1,20], [6,14], [4,10], [2,18], [4,20]]\r\n",
        "link_dates = [[0,1,8,12], [0,4,2,10], [3,4,15,15]]\r\n",
        "\r\n",
        "size = 5\r\n",
        "results = np.zeros((size,size), dtype=complex)\r\n",
        "for ld in link_dates:\r\n",
        "    a = page_dates[ld[0]]\r\n",
        "    b = page_dates[ld[1]]\r\n",
        "    olp = [max(a[0],b[0]), min(a[1],b[1])]\r\n",
        "    olp_len = olp[1]-olp[0]+1\r\n",
        "    olp_mid = olp[1]-(olp_len/2)\r\n",
        "    a_half_1 = max(0, (olp_mid-ld[2]+1) / olp_mid)\r\n",
        "    #print(ld[0],ld[1],olp, olp_len, olp_mid, ld[2], a_half_1)\r\n",
        "    a_half_2 = max(0,(ld[3]-olp_mid) / olp_mid)\r\n",
        "    results[ld[0]][ld[1]] = a_half_1 + (a_half_2 * 1j)\r\n",
        "#    #results_half_1[ld[0]][ld[1]] += a_half_2 * 1j\r\n",
        "\r\n",
        "# Plot\r\n",
        "huevalueplot(results)"
      ],
      "execution_count": 244,
      "outputs": [
        {
          "output_type": "display_data",
          "data": {
            "image/png": "[encoded data removed]",
            "text/plain": [
              "<Figure size 432x288 with 1 Axes>"
            ]
          },
          "metadata": {
            "tags": [],
            "needs_background": "light"
          }
        }
      ]
    }
  ]
}